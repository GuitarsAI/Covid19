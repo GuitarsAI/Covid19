{
 "cells": [
  {
   "cell_type": "markdown",
   "metadata": {
    "slideshow": {
     "slide_type": "slide"
    }
   },
   "source": [
    "<div align=\"left\">\n",
    "    <img src='./businesscard.jpg' width='400' align=\"right\">\n",
    "</div>\n",
    "# Utilizando Python para Analisar Dados sobre a Pandemia Covid-19 - Part 2\n",
    "## Renato Profeta \n",
    "### @Guitars.AI\n"
   ]
  },
  {
   "cell_type": "code",
   "execution_count": 41,
   "metadata": {
    "hide_input": true
   },
   "outputs": [
    {
     "data": {
      "text/html": [
       "<iframe width=\"560\" height=\"315\" src=\"https://www.youtube.com/embed/6isr3mEpu44\" frameborder=\"0\" allow=\"accelerometer; encrypted-media; gyroscope; picture-in-picture\" allowfullscreen></iframe>"
      ],
      "text/plain": [
       "<IPython.core.display.HTML object>"
      ]
     },
     "metadata": {},
     "output_type": "display_data"
    }
   ],
   "source": [
    "%%html\n",
    "<iframe width=\"560\" height=\"315\" src=\"https://www.youtube.com/embed/6isr3mEpu44\" frameborder=\"0\" allow=\"accelerometer; encrypted-media; gyroscope; picture-in-picture\" allowfullscreen></iframe>"
   ]
  },
  {
   "cell_type": "markdown",
   "metadata": {
    "slideshow": {
     "slide_type": "slide"
    }
   },
   "source": [
    "## Download dos Dados"
   ]
  },
  {
   "cell_type": "code",
   "execution_count": 1,
   "metadata": {
    "slideshow": {
     "slide_type": "-"
    }
   },
   "outputs": [],
   "source": [
    "import requests"
   ]
  },
  {
   "cell_type": "code",
   "execution_count": 2,
   "metadata": {
    "slideshow": {
     "slide_type": "-"
    }
   },
   "outputs": [
    {
     "name": "stdout",
     "output_type": "stream",
     "text": [
      "<class 'requests.models.Response'>\n"
     ]
    }
   ],
   "source": [
    "url = 'https://coronavirus-tracker-api.herokuapp.com/v2/locations?timelines=1'\n",
    "r = requests.get(url)\n",
    "print(type(r))"
   ]
  },
  {
   "cell_type": "markdown",
   "metadata": {
    "slideshow": {
     "slide_type": "-"
    }
   },
   "source": [
    "### API (Application Programming Interface)"
   ]
  },
  {
   "cell_type": "markdown",
   "metadata": {
    "slideshow": {
     "slide_type": "-"
    }
   },
   "source": [
    " - Interface de Programação de Aplicação\n",
    " - Ferramenta de comunicação entre aplicações que desejam compartilhar suas serviços, protocolos, rotinas.\n",
    " - Disponibiliar recurso de uma aplicação para ser utilizado por outras aplicações."
   ]
  },
  {
   "cell_type": "markdown",
   "metadata": {
    "slideshow": {
     "slide_type": "-"
    }
   },
   "source": [
    "#### Web API"
   ]
  },
  {
   "cell_type": "markdown",
   "metadata": {},
   "source": [
    " - Interface de Programação de Aplicação para um servidor ou navegador web.\n",
    " - Aplicação Web Servidor-Cliente.\n",
    " - Mensagens de aquisição e resposta HTTP.\n",
    " - Geralmente nos formatos XML e JSON.\n",
    " "
   ]
  },
  {
   "cell_type": "code",
   "execution_count": 3,
   "metadata": {
    "hide_input": true
   },
   "outputs": [
    {
     "data": {
      "text/html": [
       "<iframe src='https://developer.spotify.com/documentation/web-api/' width='800' height='400'>"
      ],
      "text/plain": [
       "<IPython.core.display.HTML object>"
      ]
     },
     "metadata": {},
     "output_type": "display_data"
    }
   ],
   "source": [
    "%%html\n",
    "<iframe src='https://developer.spotify.com/documentation/web-api/' width='800' height='400'>"
   ]
  },
  {
   "cell_type": "code",
   "execution_count": 4,
   "metadata": {
    "slideshow": {
     "slide_type": "-"
    }
   },
   "outputs": [
    {
     "data": {
      "text/html": [
       "<iframe src='https://coronavirus-tracker-api.herokuapp.com/v2/locations?country_code=BR' width='800' height='100'>"
      ],
      "text/plain": [
       "<IPython.core.display.HTML object>"
      ]
     },
     "metadata": {},
     "output_type": "display_data"
    }
   ],
   "source": [
    "%%html\n",
    "<iframe src='https://coronavirus-tracker-api.herokuapp.com/v2/locations?country_code=BR' width='800' height='100'>"
   ]
  },
  {
   "cell_type": "markdown",
   "metadata": {
    "slideshow": {
     "slide_type": "-"
    }
   },
   "source": [
    "### HTTP GET"
   ]
  },
  {
   "cell_type": "markdown",
   "metadata": {
    "slideshow": {
     "slide_type": "-"
    }
   },
   "source": [
    " - Solicitação HTTP.\n",
    " - Receber dados de uma fonte."
   ]
  },
  {
   "cell_type": "markdown",
   "metadata": {
    "slideshow": {
     "slide_type": "-"
    }
   },
   "source": [
    "### JSON (JavaScript Object Notation)"
   ]
  },
  {
   "cell_type": "markdown",
   "metadata": {
    "slideshow": {
     "slide_type": "-"
    }
   },
   "source": [
    "  - Formato compacto de troca de dados entre sistemas.\n",
    "  - Formato Atributo:Valor"
   ]
  },
  {
   "cell_type": "markdown",
   "metadata": {
    "slideshow": {
     "slide_type": "slide"
    }
   },
   "source": [
    "## Transformar o JSON-Response em Pandas Dataframe"
   ]
  },
  {
   "cell_type": "code",
   "execution_count": 5,
   "metadata": {
    "slideshow": {
     "slide_type": "-"
    }
   },
   "outputs": [
    {
     "name": "stdout",
     "output_type": "stream",
     "text": [
      "<class 'dict'>\n"
     ]
    }
   ],
   "source": [
    "# Python Dictionary\n",
    "r=r.json()\n",
    "print(type(r))"
   ]
  },
  {
   "cell_type": "code",
   "execution_count": 6,
   "metadata": {
    "slideshow": {
     "slide_type": "-"
    }
   },
   "outputs": [],
   "source": [
    "import pandas as pd"
   ]
  },
  {
   "cell_type": "code",
   "execution_count": 7,
   "metadata": {
    "slideshow": {
     "slide_type": "-"
    }
   },
   "outputs": [],
   "source": [
    "df = pd.DataFrame(r['locations']).set_index('country')"
   ]
  },
  {
   "cell_type": "markdown",
   "metadata": {
    "slideshow": {
     "slide_type": "-"
    }
   },
   "source": [
    "### Dictionário"
   ]
  },
  {
   "cell_type": "markdown",
   "metadata": {
    "slideshow": {
     "slide_type": "-"
    }
   },
   "source": [
    " - Estrutuda de dados para guardar grupos de objetos.\n",
    " - Composto por Keys : Values\n",
    " - Um tipo de mapeamento."
   ]
  },
  {
   "cell_type": "markdown",
   "metadata": {
    "slideshow": {
     "slide_type": "-"
    }
   },
   "source": [
    "### Python Dictionary"
   ]
  },
  {
   "cell_type": "code",
   "execution_count": 8,
   "metadata": {
    "hide_input": true,
    "slideshow": {
     "slide_type": "-"
    }
   },
   "outputs": [
    {
     "data": {
      "text/html": [
       "<iframe src='https://docs.python.org/3/tutorial/datastructures.html#dictionaries' width='800' height='400'>"
      ],
      "text/plain": [
       "<IPython.core.display.HTML object>"
      ]
     },
     "metadata": {},
     "output_type": "display_data"
    }
   ],
   "source": [
    "%%html\n",
    "<iframe src='https://docs.python.org/3/tutorial/datastructures.html#dictionaries' width='800' height='400'>"
   ]
  },
  {
   "cell_type": "markdown",
   "metadata": {
    "slideshow": {
     "slide_type": "-"
    }
   },
   "source": [
    "### Pandas "
   ]
  },
  {
   "cell_type": "code",
   "execution_count": 9,
   "metadata": {
    "hide_input": true,
    "slideshow": {
     "slide_type": "-"
    }
   },
   "outputs": [
    {
     "data": {
      "text/html": [
       "<iframe src='https://pandas.pydata.org/docs/' width='800' height='400'>"
      ],
      "text/plain": [
       "<IPython.core.display.HTML object>"
      ]
     },
     "metadata": {},
     "output_type": "display_data"
    }
   ],
   "source": [
    "%%html\n",
    "<iframe src='https://pandas.pydata.org/docs/' width='800' height='400'>"
   ]
  },
  {
   "cell_type": "code",
   "execution_count": 10,
   "metadata": {
    "hide_input": true
   },
   "outputs": [
    {
     "data": {
      "text/html": [
       "<iframe src='https://pandas.pydata.org/docs/reference/api/pandas.DataFrame.html?highlight=dataframe' width='800' height='400'>"
      ],
      "text/plain": [
       "<IPython.core.display.HTML object>"
      ]
     },
     "metadata": {},
     "output_type": "display_data"
    }
   ],
   "source": [
    "%%html\n",
    "<iframe src='https://pandas.pydata.org/docs/reference/api/pandas.DataFrame.html?highlight=dataframe' width='800' height='400'>"
   ]
  },
  {
   "cell_type": "code",
   "execution_count": 11,
   "metadata": {
    "slideshow": {
     "slide_type": "-"
    }
   },
   "outputs": [
    {
     "data": {
      "text/html": [
       "<div>\n",
       "<style scoped>\n",
       "    .dataframe tbody tr th:only-of-type {\n",
       "        vertical-align: middle;\n",
       "    }\n",
       "\n",
       "    .dataframe tbody tr th {\n",
       "        vertical-align: top;\n",
       "    }\n",
       "\n",
       "    .dataframe thead th {\n",
       "        text-align: right;\n",
       "    }\n",
       "</style>\n",
       "<table border=\"1\" class=\"dataframe\">\n",
       "  <thead>\n",
       "    <tr style=\"text-align: right;\">\n",
       "      <th></th>\n",
       "      <th>coordinates</th>\n",
       "      <th>country_code</th>\n",
       "      <th>id</th>\n",
       "      <th>last_updated</th>\n",
       "      <th>latest</th>\n",
       "      <th>province</th>\n",
       "      <th>timelines</th>\n",
       "    </tr>\n",
       "    <tr>\n",
       "      <th>country</th>\n",
       "      <th></th>\n",
       "      <th></th>\n",
       "      <th></th>\n",
       "      <th></th>\n",
       "      <th></th>\n",
       "      <th></th>\n",
       "      <th></th>\n",
       "    </tr>\n",
       "  </thead>\n",
       "  <tbody>\n",
       "    <tr>\n",
       "      <th>Thailand</th>\n",
       "      <td>{'latitude': '15', 'longitude': '101'}</td>\n",
       "      <td>TH</td>\n",
       "      <td>0</td>\n",
       "      <td>2020-03-21T12:48:15.145856Z</td>\n",
       "      <td>{'confirmed': 322, 'deaths': 1, 'recovered': 42}</td>\n",
       "      <td></td>\n",
       "      <td>{'confirmed': {'latest': 322, 'timeline': {'20...</td>\n",
       "    </tr>\n",
       "    <tr>\n",
       "      <th>Japan</th>\n",
       "      <td>{'latitude': '36', 'longitude': '138'}</td>\n",
       "      <td>JP</td>\n",
       "      <td>1</td>\n",
       "      <td>2020-03-21T12:48:15.154435Z</td>\n",
       "      <td>{'confirmed': 963, 'deaths': 33, 'recovered': ...</td>\n",
       "      <td></td>\n",
       "      <td>{'confirmed': {'latest': 963, 'timeline': {'20...</td>\n",
       "    </tr>\n",
       "    <tr>\n",
       "      <th>Singapore</th>\n",
       "      <td>{'latitude': '1.2833', 'longitude': '103.8333'}</td>\n",
       "      <td>SG</td>\n",
       "      <td>2</td>\n",
       "      <td>2020-03-21T12:48:15.160407Z</td>\n",
       "      <td>{'confirmed': 385, 'deaths': 0, 'recovered': 124}</td>\n",
       "      <td></td>\n",
       "      <td>{'confirmed': {'latest': 385, 'timeline': {'20...</td>\n",
       "    </tr>\n",
       "    <tr>\n",
       "      <th>Nepal</th>\n",
       "      <td>{'latitude': '28.1667', 'longitude': '84.25'}</td>\n",
       "      <td>NP</td>\n",
       "      <td>3</td>\n",
       "      <td>2020-03-21T12:48:15.164421Z</td>\n",
       "      <td>{'confirmed': 1, 'deaths': 0, 'recovered': 1}</td>\n",
       "      <td></td>\n",
       "      <td>{'confirmed': {'latest': 1, 'timeline': {'2020...</td>\n",
       "    </tr>\n",
       "    <tr>\n",
       "      <th>Malaysia</th>\n",
       "      <td>{'latitude': '2.5', 'longitude': '112.5'}</td>\n",
       "      <td>MY</td>\n",
       "      <td>4</td>\n",
       "      <td>2020-03-21T12:48:15.169466Z</td>\n",
       "      <td>{'confirmed': 1030, 'deaths': 3, 'recovered': 87}</td>\n",
       "      <td></td>\n",
       "      <td>{'confirmed': {'latest': 1030, 'timeline': {'2...</td>\n",
       "    </tr>\n",
       "  </tbody>\n",
       "</table>\n",
       "</div>"
      ],
      "text/plain": [
       "                                               coordinates country_code  id  \\\n",
       "country                                                                       \n",
       "Thailand            {'latitude': '15', 'longitude': '101'}           TH   0   \n",
       "Japan               {'latitude': '36', 'longitude': '138'}           JP   1   \n",
       "Singapore  {'latitude': '1.2833', 'longitude': '103.8333'}           SG   2   \n",
       "Nepal        {'latitude': '28.1667', 'longitude': '84.25'}           NP   3   \n",
       "Malaysia         {'latitude': '2.5', 'longitude': '112.5'}           MY   4   \n",
       "\n",
       "                          last_updated  \\\n",
       "country                                  \n",
       "Thailand   2020-03-21T12:48:15.145856Z   \n",
       "Japan      2020-03-21T12:48:15.154435Z   \n",
       "Singapore  2020-03-21T12:48:15.160407Z   \n",
       "Nepal      2020-03-21T12:48:15.164421Z   \n",
       "Malaysia   2020-03-21T12:48:15.169466Z   \n",
       "\n",
       "                                                      latest province  \\\n",
       "country                                                                 \n",
       "Thailand    {'confirmed': 322, 'deaths': 1, 'recovered': 42}            \n",
       "Japan      {'confirmed': 963, 'deaths': 33, 'recovered': ...            \n",
       "Singapore  {'confirmed': 385, 'deaths': 0, 'recovered': 124}            \n",
       "Nepal          {'confirmed': 1, 'deaths': 0, 'recovered': 1}            \n",
       "Malaysia   {'confirmed': 1030, 'deaths': 3, 'recovered': 87}            \n",
       "\n",
       "                                                   timelines  \n",
       "country                                                       \n",
       "Thailand   {'confirmed': {'latest': 322, 'timeline': {'20...  \n",
       "Japan      {'confirmed': {'latest': 963, 'timeline': {'20...  \n",
       "Singapore  {'confirmed': {'latest': 385, 'timeline': {'20...  \n",
       "Nepal      {'confirmed': {'latest': 1, 'timeline': {'2020...  \n",
       "Malaysia   {'confirmed': {'latest': 1030, 'timeline': {'2...  "
      ]
     },
     "execution_count": 11,
     "metadata": {},
     "output_type": "execute_result"
    }
   ],
   "source": [
    "df.head()"
   ]
  },
  {
   "cell_type": "markdown",
   "metadata": {
    "slideshow": {
     "slide_type": "slide"
    }
   },
   "source": [
    "## Obter apenas as informações desejadas"
   ]
  },
  {
   "cell_type": "markdown",
   "metadata": {
    "slideshow": {
     "slide_type": "-"
    }
   },
   "source": [
    "### Apenas Informações Desejadas"
   ]
  },
  {
   "cell_type": "code",
   "execution_count": 12,
   "metadata": {
    "slideshow": {
     "slide_type": "-"
    }
   },
   "outputs": [
    {
     "data": {
      "text/html": [
       "<div>\n",
       "<style scoped>\n",
       "    .dataframe tbody tr th:only-of-type {\n",
       "        vertical-align: middle;\n",
       "    }\n",
       "\n",
       "    .dataframe tbody tr th {\n",
       "        vertical-align: top;\n",
       "    }\n",
       "\n",
       "    .dataframe thead th {\n",
       "        text-align: right;\n",
       "    }\n",
       "</style>\n",
       "<table border=\"1\" class=\"dataframe\">\n",
       "  <thead>\n",
       "    <tr style=\"text-align: right;\">\n",
       "      <th></th>\n",
       "      <th>timelines</th>\n",
       "    </tr>\n",
       "    <tr>\n",
       "      <th>country</th>\n",
       "      <th></th>\n",
       "    </tr>\n",
       "  </thead>\n",
       "  <tbody>\n",
       "    <tr>\n",
       "      <th>Thailand</th>\n",
       "      <td>{'confirmed': {'latest': 322, 'timeline': {'20...</td>\n",
       "    </tr>\n",
       "    <tr>\n",
       "      <th>Japan</th>\n",
       "      <td>{'confirmed': {'latest': 963, 'timeline': {'20...</td>\n",
       "    </tr>\n",
       "    <tr>\n",
       "      <th>Singapore</th>\n",
       "      <td>{'confirmed': {'latest': 385, 'timeline': {'20...</td>\n",
       "    </tr>\n",
       "    <tr>\n",
       "      <th>Nepal</th>\n",
       "      <td>{'confirmed': {'latest': 1, 'timeline': {'2020...</td>\n",
       "    </tr>\n",
       "    <tr>\n",
       "      <th>Malaysia</th>\n",
       "      <td>{'confirmed': {'latest': 1030, 'timeline': {'2...</td>\n",
       "    </tr>\n",
       "  </tbody>\n",
       "</table>\n",
       "</div>"
      ],
      "text/plain": [
       "                                                   timelines\n",
       "country                                                     \n",
       "Thailand   {'confirmed': {'latest': 322, 'timeline': {'20...\n",
       "Japan      {'confirmed': {'latest': 963, 'timeline': {'20...\n",
       "Singapore  {'confirmed': {'latest': 385, 'timeline': {'20...\n",
       "Nepal      {'confirmed': {'latest': 1, 'timeline': {'2020...\n",
       "Malaysia   {'confirmed': {'latest': 1030, 'timeline': {'2..."
      ]
     },
     "execution_count": 12,
     "metadata": {},
     "output_type": "execute_result"
    }
   ],
   "source": [
    "data = pd.DataFrame(df['timelines'])\n",
    "data.head()"
   ]
  },
  {
   "cell_type": "markdown",
   "metadata": {
    "slideshow": {
     "slide_type": "-"
    }
   },
   "source": [
    "### Apenas Países Desejados"
   ]
  },
  {
   "cell_type": "code",
   "execution_count": 13,
   "metadata": {
    "slideshow": {
     "slide_type": "-"
    }
   },
   "outputs": [],
   "source": [
    "countries = ['Italy', 'Germany', 'Spain', 'Brazil']\n",
    "data=data.loc[countries,: ]\n"
   ]
  },
  {
   "cell_type": "code",
   "execution_count": 14,
   "metadata": {
    "slideshow": {
     "slide_type": "-"
    }
   },
   "outputs": [
    {
     "data": {
      "text/html": [
       "<div>\n",
       "<style scoped>\n",
       "    .dataframe tbody tr th:only-of-type {\n",
       "        vertical-align: middle;\n",
       "    }\n",
       "\n",
       "    .dataframe tbody tr th {\n",
       "        vertical-align: top;\n",
       "    }\n",
       "\n",
       "    .dataframe thead th {\n",
       "        text-align: right;\n",
       "    }\n",
       "</style>\n",
       "<table border=\"1\" class=\"dataframe\">\n",
       "  <thead>\n",
       "    <tr style=\"text-align: right;\">\n",
       "      <th></th>\n",
       "      <th>timelines</th>\n",
       "    </tr>\n",
       "    <tr>\n",
       "      <th>country</th>\n",
       "      <th></th>\n",
       "    </tr>\n",
       "  </thead>\n",
       "  <tbody>\n",
       "    <tr>\n",
       "      <th>Italy</th>\n",
       "      <td>{'confirmed': {'latest': 47021, 'timeline': {'...</td>\n",
       "    </tr>\n",
       "    <tr>\n",
       "      <th>Germany</th>\n",
       "      <td>{'confirmed': {'latest': 19848, 'timeline': {'...</td>\n",
       "    </tr>\n",
       "    <tr>\n",
       "      <th>Spain</th>\n",
       "      <td>{'confirmed': {'latest': 20410, 'timeline': {'...</td>\n",
       "    </tr>\n",
       "    <tr>\n",
       "      <th>Brazil</th>\n",
       "      <td>{'confirmed': {'latest': 793, 'timeline': {'20...</td>\n",
       "    </tr>\n",
       "  </tbody>\n",
       "</table>\n",
       "</div>"
      ],
      "text/plain": [
       "                                                 timelines\n",
       "country                                                   \n",
       "Italy    {'confirmed': {'latest': 47021, 'timeline': {'...\n",
       "Germany  {'confirmed': {'latest': 19848, 'timeline': {'...\n",
       "Spain    {'confirmed': {'latest': 20410, 'timeline': {'...\n",
       "Brazil   {'confirmed': {'latest': 793, 'timeline': {'20..."
      ]
     },
     "execution_count": 14,
     "metadata": {},
     "output_type": "execute_result"
    }
   ],
   "source": [
    "data.head()"
   ]
  },
  {
   "cell_type": "code",
   "execution_count": 15,
   "metadata": {
    "slideshow": {
     "slide_type": "-"
    }
   },
   "outputs": [
    {
     "data": {
      "text/plain": [
       "{'latest': 47021,\n",
       " 'timeline': {'2020-01-22T00:00:00Z': 0,\n",
       "  '2020-01-23T00:00:00Z': 0,\n",
       "  '2020-01-24T00:00:00Z': 0,\n",
       "  '2020-01-25T00:00:00Z': 0,\n",
       "  '2020-01-26T00:00:00Z': 0,\n",
       "  '2020-01-27T00:00:00Z': 0,\n",
       "  '2020-01-28T00:00:00Z': 0,\n",
       "  '2020-01-29T00:00:00Z': 0,\n",
       "  '2020-01-30T00:00:00Z': 0,\n",
       "  '2020-01-31T00:00:00Z': 2,\n",
       "  '2020-02-01T00:00:00Z': 2,\n",
       "  '2020-02-02T00:00:00Z': 2,\n",
       "  '2020-02-03T00:00:00Z': 2,\n",
       "  '2020-02-04T00:00:00Z': 2,\n",
       "  '2020-02-05T00:00:00Z': 2,\n",
       "  '2020-02-06T00:00:00Z': 2,\n",
       "  '2020-02-07T00:00:00Z': 3,\n",
       "  '2020-02-08T00:00:00Z': 3,\n",
       "  '2020-02-09T00:00:00Z': 3,\n",
       "  '2020-02-10T00:00:00Z': 3,\n",
       "  '2020-02-11T00:00:00Z': 3,\n",
       "  '2020-02-12T00:00:00Z': 3,\n",
       "  '2020-02-13T00:00:00Z': 3,\n",
       "  '2020-02-14T00:00:00Z': 3,\n",
       "  '2020-02-15T00:00:00Z': 3,\n",
       "  '2020-02-16T00:00:00Z': 3,\n",
       "  '2020-02-17T00:00:00Z': 3,\n",
       "  '2020-02-18T00:00:00Z': 3,\n",
       "  '2020-02-19T00:00:00Z': 3,\n",
       "  '2020-02-20T00:00:00Z': 3,\n",
       "  '2020-02-21T00:00:00Z': 20,\n",
       "  '2020-02-22T00:00:00Z': 62,\n",
       "  '2020-02-23T00:00:00Z': 155,\n",
       "  '2020-02-24T00:00:00Z': 229,\n",
       "  '2020-02-25T00:00:00Z': 322,\n",
       "  '2020-02-26T00:00:00Z': 453,\n",
       "  '2020-02-27T00:00:00Z': 655,\n",
       "  '2020-02-28T00:00:00Z': 888,\n",
       "  '2020-02-29T00:00:00Z': 1128,\n",
       "  '2020-03-01T00:00:00Z': 1694,\n",
       "  '2020-03-02T00:00:00Z': 2036,\n",
       "  '2020-03-03T00:00:00Z': 2502,\n",
       "  '2020-03-04T00:00:00Z': 3089,\n",
       "  '2020-03-05T00:00:00Z': 3858,\n",
       "  '2020-03-06T00:00:00Z': 4636,\n",
       "  '2020-03-07T00:00:00Z': 5883,\n",
       "  '2020-03-08T00:00:00Z': 7375,\n",
       "  '2020-03-09T00:00:00Z': 9172,\n",
       "  '2020-03-10T00:00:00Z': 10149,\n",
       "  '2020-03-11T00:00:00Z': 12462,\n",
       "  '2020-03-12T00:00:00Z': 12462,\n",
       "  '2020-03-13T00:00:00Z': 17660,\n",
       "  '2020-03-14T00:00:00Z': 21157,\n",
       "  '2020-03-15T00:00:00Z': 24747,\n",
       "  '2020-03-16T00:00:00Z': 27980,\n",
       "  '2020-03-17T00:00:00Z': 31506,\n",
       "  '2020-03-18T00:00:00Z': 35713,\n",
       "  '2020-03-19T00:00:00Z': 41035,\n",
       "  '2020-03-20T00:00:00Z': 47021}}"
      ]
     },
     "execution_count": 15,
     "metadata": {},
     "output_type": "execute_result"
    }
   ],
   "source": [
    "data.loc['Italy','timelines']['confirmed']"
   ]
  },
  {
   "cell_type": "markdown",
   "metadata": {
    "slideshow": {
     "slide_type": "-"
    }
   },
   "source": [
    "### Casos Confirmados desde 14 Dias antes da Confirmação de Mortes"
   ]
  },
  {
   "cell_type": "markdown",
   "metadata": {
    "slideshow": {
     "slide_type": "-"
    }
   },
   "source": [
    "#### Italy"
   ]
  },
  {
   "cell_type": "code",
   "execution_count": 16,
   "metadata": {
    "slideshow": {
     "slide_type": "-"
    }
   },
   "outputs": [],
   "source": [
    "Italy_confirmed = pd.Series(data.loc['Italy','timelines']['confirmed']['timeline'])\n",
    "Italy_deaths = pd.Series(data.loc['Italy','timelines']['deaths']['timeline'])\n",
    "\n",
    "day_first_death=(Italy_deaths == 0).sum()\n",
    "\n",
    "Italy_confirmed = Italy_confirmed.iloc[day_first_death-14:].reset_index(drop=True)"
   ]
  },
  {
   "cell_type": "markdown",
   "metadata": {
    "slideshow": {
     "slide_type": "-"
    }
   },
   "source": [
    "#### Germany"
   ]
  },
  {
   "cell_type": "code",
   "execution_count": 17,
   "metadata": {
    "slideshow": {
     "slide_type": "-"
    }
   },
   "outputs": [],
   "source": [
    "Germany_confirmed = pd.Series(data.loc['Germany','timelines']['confirmed']['timeline'])\n",
    "Germany_deaths = pd.Series(data.loc['Germany','timelines']['deaths']['timeline'])\n",
    "\n",
    "day_first_death=(Germany_deaths == 0).sum()\n",
    "\n",
    "Germany_confirmed = Germany_confirmed.iloc[day_first_death-14:].reset_index(drop=True)"
   ]
  },
  {
   "cell_type": "markdown",
   "metadata": {
    "slideshow": {
     "slide_type": "-"
    }
   },
   "source": [
    "#### Spain"
   ]
  },
  {
   "cell_type": "code",
   "execution_count": 18,
   "metadata": {
    "slideshow": {
     "slide_type": "-"
    }
   },
   "outputs": [],
   "source": [
    "Spain_confirmed = pd.Series(data.loc['Spain','timelines']['confirmed']['timeline'])\n",
    "Spain_deaths = pd.Series(data.loc['Spain','timelines']['deaths']['timeline'])\n",
    "\n",
    "day_first_death=(Spain_deaths == 0).sum()\n",
    "\n",
    "Spain_confirmed = Spain_confirmed.iloc[day_first_death-14:].reset_index(drop=True)"
   ]
  },
  {
   "cell_type": "markdown",
   "metadata": {
    "slideshow": {
     "slide_type": "-"
    }
   },
   "source": [
    "#### Brazil"
   ]
  },
  {
   "cell_type": "code",
   "execution_count": 19,
   "metadata": {
    "slideshow": {
     "slide_type": "-"
    }
   },
   "outputs": [],
   "source": [
    "Brazil_confirmed = pd.Series(data.loc['Brazil','timelines']['confirmed']['timeline'])\n",
    "Brazil_deaths = pd.Series(data.loc['Brazil','timelines']['deaths']['timeline'])\n",
    "\n",
    "day_first_death=(Brazil_deaths == 0).sum()\n",
    "\n",
    "Brazil_confirmed = Brazil_confirmed.iloc[day_first_death-14:].reset_index(drop=True)"
   ]
  },
  {
   "cell_type": "markdown",
   "metadata": {
    "slideshow": {
     "slide_type": "slide"
    }
   },
   "source": [
    "### Ajuste de Curvas e Previsões Casos Confirmados desde 14 dias antes da Confirmação de Mortes"
   ]
  },
  {
   "cell_type": "code",
   "execution_count": 20,
   "metadata": {
    "slideshow": {
     "slide_type": "-"
    }
   },
   "outputs": [],
   "source": [
    "import numpy as np"
   ]
  },
  {
   "cell_type": "code",
   "execution_count": 21,
   "metadata": {
    "slideshow": {
     "slide_type": "-"
    }
   },
   "outputs": [],
   "source": [
    "def exponential_func(x, a, c, d):\n",
    "    return a*np.exp(c*x)+d"
   ]
  },
  {
   "cell_type": "code",
   "execution_count": 22,
   "metadata": {
    "slideshow": {
     "slide_type": "-"
    }
   },
   "outputs": [],
   "source": [
    "from scipy.optimize import curve_fit"
   ]
  },
  {
   "cell_type": "markdown",
   "metadata": {
    "slideshow": {
     "slide_type": "-"
    }
   },
   "source": [
    "##### Italy"
   ]
  },
  {
   "cell_type": "code",
   "execution_count": 23,
   "metadata": {
    "slideshow": {
     "slide_type": "-"
    }
   },
   "outputs": [],
   "source": [
    "days_to_predict=Italy_confirmed.size+5"
   ]
  },
  {
   "cell_type": "code",
   "execution_count": 24,
   "metadata": {
    "slideshow": {
     "slide_type": "-"
    }
   },
   "outputs": [],
   "source": [
    "y = np.array(Italy_confirmed.tolist())\n",
    "x = np.arange(y.size)\n",
    "\n",
    "popt, pcov = curve_fit(exponential_func, x, y)\n",
    "Italy_cases_prediction = exponential_func(np.arange(days_to_predict), *popt)"
   ]
  },
  {
   "cell_type": "markdown",
   "metadata": {
    "slideshow": {
     "slide_type": "-"
    }
   },
   "source": [
    "#### Germany"
   ]
  },
  {
   "cell_type": "code",
   "execution_count": 25,
   "metadata": {
    "slideshow": {
     "slide_type": "-"
    }
   },
   "outputs": [],
   "source": [
    "y = np.array(Germany_confirmed.tolist())\n",
    "x = np.arange(y.size)\n",
    "\n",
    "popt, pcov = curve_fit(exponential_func, x, y)\n",
    "Germany_cases_prediction = exponential_func(np.arange(days_to_predict), *popt)"
   ]
  },
  {
   "cell_type": "markdown",
   "metadata": {
    "slideshow": {
     "slide_type": "-"
    }
   },
   "source": [
    "#### Spain"
   ]
  },
  {
   "cell_type": "code",
   "execution_count": 26,
   "metadata": {},
   "outputs": [],
   "source": [
    "y = np.array(Spain_confirmed.tolist())\n",
    "x = np.arange(y.size)\n",
    "\n",
    "popt, pcov = curve_fit(exponential_func, x, y)\n",
    "Spain_cases_prediction = exponential_func(np.arange(days_to_predict), *popt)"
   ]
  },
  {
   "cell_type": "markdown",
   "metadata": {
    "slideshow": {
     "slide_type": "-"
    }
   },
   "source": [
    "#### Brazil"
   ]
  },
  {
   "cell_type": "code",
   "execution_count": 27,
   "metadata": {
    "slideshow": {
     "slide_type": "-"
    }
   },
   "outputs": [],
   "source": [
    "y = np.array(Brazil_confirmed.tolist()) \n",
    "x = np.arange(y.size)\n",
    "\n",
    "popt, pcov = curve_fit(exponential_func, x, y)\n",
    "Brazil_cases_prediction = exponential_func(np.arange(days_to_predict), *popt)"
   ]
  },
  {
   "cell_type": "markdown",
   "metadata": {
    "slideshow": {
     "slide_type": "-"
    }
   },
   "source": [
    "### Mortes e Mortes/Casos (Ajuste de Curvas e Previsões)"
   ]
  },
  {
   "cell_type": "markdown",
   "metadata": {
    "slideshow": {
     "slide_type": "-"
    }
   },
   "source": [
    "#### Italy\n",
    "\n"
   ]
  },
  {
   "cell_type": "code",
   "execution_count": 28,
   "metadata": {
    "slideshow": {
     "slide_type": "-"
    }
   },
   "outputs": [],
   "source": [
    "Italy_deaths = np.trim_zeros(np.array(Italy_deaths.tolist()))\n",
    "Italy_death_rate=Italy_deaths/np.array(Italy_confirmed.tolist()[14:])"
   ]
  },
  {
   "cell_type": "code",
   "execution_count": 29,
   "metadata": {
    "slideshow": {
     "slide_type": "-"
    }
   },
   "outputs": [],
   "source": [
    "days_to_predict=Italy_deaths.size+5"
   ]
  },
  {
   "cell_type": "code",
   "execution_count": 30,
   "metadata": {
    "slideshow": {
     "slide_type": "-"
    }
   },
   "outputs": [],
   "source": [
    "y = Italy_deaths\n",
    "x = np.arange(y.size)\n",
    "\n",
    "popt, pcov = curve_fit(exponential_func, x, y)\n",
    "Italy_deaths_prediction = exponential_func(np.arange(days_to_predict), *popt)"
   ]
  },
  {
   "cell_type": "markdown",
   "metadata": {
    "slideshow": {
     "slide_type": "-"
    }
   },
   "source": [
    "#### Spain"
   ]
  },
  {
   "cell_type": "code",
   "execution_count": 31,
   "metadata": {
    "slideshow": {
     "slide_type": "-"
    }
   },
   "outputs": [],
   "source": [
    "Spain_deaths = np.trim_zeros(np.array(Spain_deaths.tolist()))\n",
    "Spain_death_rate=Spain_deaths/np.array(Spain_confirmed.tolist()[14:])"
   ]
  },
  {
   "cell_type": "code",
   "execution_count": 32,
   "metadata": {
    "slideshow": {
     "slide_type": "-"
    }
   },
   "outputs": [],
   "source": [
    "y = Spain_deaths\n",
    "x = np.arange(y.size)\n",
    "\n",
    "popt, pcov = curve_fit(exponential_func, x, y)\n",
    "Spain_deaths_prediction = exponential_func(np.arange(days_to_predict), *popt)"
   ]
  },
  {
   "cell_type": "markdown",
   "metadata": {
    "slideshow": {
     "slide_type": "-"
    }
   },
   "source": [
    "#### Germany"
   ]
  },
  {
   "cell_type": "code",
   "execution_count": 33,
   "metadata": {
    "slideshow": {
     "slide_type": "-"
    }
   },
   "outputs": [],
   "source": [
    "Germany_deaths = np.trim_zeros(np.array(Germany_deaths.tolist()))\n",
    "Germany_death_rate=Germany_deaths/np.array(Germany_confirmed.tolist()[14:])"
   ]
  },
  {
   "cell_type": "code",
   "execution_count": 34,
   "metadata": {
    "slideshow": {
     "slide_type": "-"
    }
   },
   "outputs": [],
   "source": [
    "y = Germany_deaths\n",
    "x = np.arange(y.size)\n",
    "\n",
    "popt, pcov = curve_fit(exponential_func, x, y)\n",
    "Germany_deaths_prediction = exponential_func(np.arange(days_to_predict), *popt)"
   ]
  },
  {
   "cell_type": "markdown",
   "metadata": {
    "slideshow": {
     "slide_type": "-"
    }
   },
   "source": [
    "#### Brazil\n",
    "\n"
   ]
  },
  {
   "cell_type": "code",
   "execution_count": 35,
   "metadata": {
    "slideshow": {
     "slide_type": "-"
    }
   },
   "outputs": [],
   "source": [
    "Brazil_deaths = np.trim_zeros(np.array(Brazil_deaths.tolist()))\n",
    "Brazil_death_rate=Brazil_deaths/np.array(Brazil_confirmed.tolist()[14:])"
   ]
  },
  {
   "cell_type": "code",
   "execution_count": 36,
   "metadata": {
    "slideshow": {
     "slide_type": "-"
    }
   },
   "outputs": [],
   "source": [
    "y = Brazil_deaths\n",
    "x = np.arange(y.size)\n",
    "\n",
    "popt, pcov = curve_fit(exponential_func, x, y)\n",
    "Brazil_deaths_prediction = exponential_func(np.arange(days_to_predict), *popt)"
   ]
  },
  {
   "cell_type": "markdown",
   "metadata": {
    "slideshow": {
     "slide_type": "slide"
    }
   },
   "source": [
    "## Visualização de Dados"
   ]
  },
  {
   "cell_type": "code",
   "execution_count": 37,
   "metadata": {
    "slideshow": {
     "slide_type": "-"
    }
   },
   "outputs": [
    {
     "data": {
      "text/html": [
       "        <script type=\"text/javascript\">\n",
       "        window.PlotlyConfig = {MathJaxConfig: 'local'};\n",
       "        if (window.MathJax) {MathJax.Hub.Config({SVG: {font: \"STIX-Web\"}});}\n",
       "        if (typeof require !== 'undefined') {\n",
       "        require.undef(\"plotly\");\n",
       "        requirejs.config({\n",
       "            paths: {\n",
       "                'plotly': ['https://cdn.plot.ly/plotly-latest.min']\n",
       "            }\n",
       "        });\n",
       "        require(['plotly'], function(Plotly) {\n",
       "            window._Plotly = Plotly;\n",
       "        });\n",
       "        }\n",
       "        </script>\n",
       "        "
      ]
     },
     "metadata": {},
     "output_type": "display_data"
    }
   ],
   "source": [
    "import matplotlib.pyplot as plt\n",
    "import plotly.offline\n",
    "import plotly.tools as tls\n",
    "import plotly.plotly as py\n",
    "\n",
    "# Configurations\n",
    "plotly.offline.init_notebook_mode(connected=True)\n",
    "import warnings; warnings.simplefilter('ignore')"
   ]
  },
  {
   "cell_type": "markdown",
   "metadata": {
    "slideshow": {
     "slide_type": "-"
    }
   },
   "source": [
    "### Casos Confirmados e Mortes"
   ]
  },
  {
   "cell_type": "code",
   "execution_count": 38,
   "metadata": {
    "slideshow": {
     "slide_type": "-"
    }
   },
   "outputs": [
    {
     "data": {
      "application/vnd.plotly.v1+json": {
       "config": {
        "linkText": "Export to plot.ly",
        "plotlyServerURL": "https://plot.ly",
        "showLink": false
       },
       "data": [
        {
         "line": {
          "color": "rgba (255, 0, 0, 1)",
          "dash": "solid",
          "width": 1.5
         },
         "mode": "lines",
         "name": "Italy Cases",
         "type": "scatter",
         "uid": "884ed96d-4b65-406a-88fb-2cb5a6dba927",
         "x": [
          0,
          1,
          2,
          3,
          4,
          5,
          6,
          7,
          8,
          9,
          10,
          11,
          12,
          13,
          14,
          15,
          16,
          17,
          18,
          19,
          20,
          21,
          22,
          23,
          24,
          25,
          26,
          27,
          28
         ],
         "xaxis": "x",
         "y": [
          20,
          62,
          155,
          229,
          322,
          453,
          655,
          888,
          1128,
          1694,
          2036,
          2502,
          3089,
          3858,
          4636,
          5883,
          7375,
          9172,
          10149,
          12462,
          12462,
          17660,
          21157,
          24747,
          27980,
          31506,
          35713,
          41035,
          47021
         ],
         "yaxis": "y"
        },
        {
         "marker": {
          "color": "#FF0000",
          "line": {
           "color": "#FF0000",
           "width": 1
          },
          "opacity": 1,
          "size": 3,
          "symbol": "x"
         },
         "mode": "markers",
         "name": "Italy Cases Prediction",
         "type": "scatter",
         "uid": "fe82ef6b-b7cf-4ea7-83f6-b5bd5faeaab7",
         "x": [
          0,
          1,
          2,
          3,
          4,
          5,
          6,
          7,
          8,
          9,
          10,
          11,
          12,
          13,
          14,
          15,
          16,
          17,
          18,
          19,
          20,
          21,
          22,
          23,
          24,
          25,
          26,
          27,
          28,
          29,
          30,
          31,
          32,
          33
         ],
         "xaxis": "x",
         "y": [
          56.41872274352045,
          182.37620056799608,
          328.32699798620536,
          497.4446687663034,
          693.4065071119516,
          920.4735067381386,
          1183.5830119076868,
          1488.4560750323594,
          1841.7218552219633,
          2251.061762703181,
          2725.376483384025,
          3274.9795153455993,
          3911.8214255181606,
          4649.749702778087,
          5504.8098577108185,
          6495.59431615223,
          7643.646692848783,
          8973.930235761807,
          10515.37062686774,
          12301.484942113504,
          14371.110446630733,
          16769.249072130086,
          19548.04593879,
          22767.923198617344,
          26498.89385456711,
          30822.084123100667,
          35831.49744243046,
          41636.0584830415,
          48361.98160544965,
          56155.51526493587,
          65186.12203758624,
          75650.16341411567,
          87775.16948362303,
          101824.78634727029
         ],
         "yaxis": "y"
        },
        {
         "line": {
          "color": "rgba (255, 0, 0, 1)",
          "dash": "5.550000000000001px,2.4000000000000004px",
          "width": 1.5
         },
         "mode": "lines",
         "name": "Italy Deaths",
         "type": "scatter",
         "uid": "35110b43-ef59-4ceb-84d4-09e1116a5c24",
         "x": [
          0,
          1,
          2,
          3,
          4,
          5,
          6,
          7,
          8,
          9,
          10,
          11,
          12,
          13,
          14,
          15,
          16,
          17,
          18,
          19,
          20,
          21,
          22,
          23,
          24,
          25,
          26,
          27,
          28
         ],
         "xaxis": "x",
         "y": [
          1,
          2,
          3,
          7,
          10,
          12,
          17,
          21,
          29,
          34,
          52,
          79,
          107,
          148,
          197,
          233,
          366,
          463,
          631,
          827,
          827,
          1266,
          1441,
          1809,
          2158,
          2503,
          2978,
          3405,
          4032
         ],
         "yaxis": "y"
        },
        {
         "marker": {
          "color": "#FF0000",
          "line": {
           "color": "#FF0000",
           "width": 1
          },
          "opacity": 1,
          "size": 3,
          "symbol": "circle"
         },
         "mode": "markers",
         "name": "Italy Deaths Prediction",
         "type": "scatter",
         "uid": "4e7cc772-d8f3-4f7a-8c55-6bd4ecaf1b42",
         "x": [
          0,
          1,
          2,
          3,
          4,
          5,
          6,
          7,
          8,
          9,
          10,
          11,
          12,
          13,
          14,
          15,
          16,
          17,
          18,
          19,
          20,
          21,
          22,
          23,
          24,
          25,
          26,
          27,
          28,
          29,
          30,
          31,
          32,
          33
         ],
         "xaxis": "x",
         "y": [
          -74.96304191852917,
          -68.30443453870618,
          -60.40781368353197,
          -51.04299948539709,
          -39.93701547349862,
          -26.7661315389183,
          -11.146427473764291,
          7.377397980534127,
          29.345298782624624,
          55.397620795759636,
          86.29376733205005,
          122.93433512138775,
          166.38736594994504,
          217.919479181471,
          279.0327926482405,
          351.5087081246261,
          437.4598376930859,
          539.3915846125328,
          660.2751737196953,
          803.6342601383492,
          973.6476408675717,
          1175.271063205583,
          1414.3816806224427,
          1697.9493668490102,
          2034.2398818440136,
          2433.0558117565843,
          2906.0223060818607,
          3466.9259410078344,
          4132.116586535454,
          4920.983991461171,
          5856.52297827393,
          6966.003722923353,
          8281.766657551545,
          9842.165166935707
         ],
         "yaxis": "y"
        },
        {
         "line": {
          "color": "rgba (0, 0, 0, 1)",
          "dash": "solid",
          "width": 1.5
         },
         "mode": "lines",
         "name": "Spain Cases",
         "type": "scatter",
         "uid": "da9c3af4-6812-4988-9c68-e5dd9a70751c",
         "x": [
          0,
          1,
          2,
          3,
          4,
          5,
          6,
          7,
          8,
          9,
          10,
          11,
          12,
          13,
          14,
          15,
          16,
          17
         ],
         "xaxis": "x",
         "y": [
          165,
          222,
          259,
          400,
          500,
          673,
          1073,
          1695,
          2277,
          2277,
          5232,
          6391,
          7798,
          9942,
          11748,
          13910,
          17963,
          20410
         ],
         "yaxis": "y"
        },
        {
         "marker": {
          "color": "#000000",
          "line": {
           "color": "#000000",
           "width": 1
          },
          "opacity": 1,
          "size": 3,
          "symbol": "x"
         },
         "mode": "markers",
         "name": "Spain Cases Prediction",
         "type": "scatter",
         "uid": "dfed6ea7-6e6a-487a-8cee-624a28b0a5bd",
         "x": [
          0,
          1,
          2,
          3,
          4,
          5,
          6,
          7,
          8,
          9,
          10,
          11,
          12,
          13,
          14,
          15,
          16,
          17,
          18,
          19,
          20,
          21,
          22,
          23,
          24,
          25,
          26,
          27,
          28,
          29,
          30,
          31,
          32,
          33
         ],
         "xaxis": "x",
         "y": [
          252.1596387676152,
          393.64897327879055,
          568.4157009600633,
          784.2864534089531,
          1050.9286362839225,
          1380.2833676765506,
          1787.1002408401437,
          2289.597859716944,
          2910.2797282276265,
          3676.9420315416774,
          4623.918441104206,
          5793.617689901868,
          7238.42277566941,
          9023.036844632388,
          11227.380812212403,
          13950.172485725336,
          17313.34747401454,
          21467.519866961826,
          26598.727232149715,
          32936.76199191531,
          40765.46228739172,
          50435.42318843584,
          62379.697499428905,
          77133.18929491729,
          95356.6086917084,
          117866.06063127526,
          145669.59275592637,
          180012.33911340975,
          222432.28137422592,
          274829.1247332266,
          339549.3729859845,
          419491.4127229846,
          518235.3126591192,
          640203.1509413918
         ],
         "yaxis": "y"
        },
        {
         "line": {
          "color": "rgba (0, 0, 0, 1)",
          "dash": "5.550000000000001px,2.4000000000000004px",
          "width": 1.5
         },
         "mode": "lines",
         "name": "Spain Deaths",
         "type": "scatter",
         "uid": "a096a57d-86dd-42e4-b40d-31dc3acc23c5",
         "x": [
          0,
          1,
          2,
          3,
          4,
          5,
          6,
          7,
          8,
          9,
          10,
          11,
          12,
          13,
          14,
          15,
          16,
          17
         ],
         "xaxis": "x",
         "y": [
          1,
          2,
          3,
          5,
          10,
          17,
          28,
          35,
          54,
          55,
          133,
          195,
          289,
          342,
          533,
          623,
          830,
          1043
         ],
         "yaxis": "y"
        },
        {
         "marker": {
          "color": "#000000",
          "line": {
           "color": "#000000",
           "width": 1
          },
          "opacity": 1,
          "size": 3,
          "symbol": "circle"
         },
         "mode": "markers",
         "name": "Spain Deaths Prediction",
         "type": "scatter",
         "uid": "b345a2bb-589f-4358-93ee-87f16d09cb7b",
         "x": [
          0,
          1,
          2,
          3,
          4,
          5,
          6,
          7,
          8,
          9,
          10,
          11,
          12,
          13,
          14,
          15,
          16,
          17,
          18,
          19,
          20,
          21,
          22,
          23,
          24,
          25,
          26,
          27,
          28,
          29,
          30,
          31,
          32,
          33
         ],
         "xaxis": "x",
         "y": [
          -19.268681874225663,
          -15.22691894951216,
          -9.996792759165405,
          -3.228899521367442,
          5.528896602705558,
          16.86166889327187,
          31.526514474319484,
          50.503132939952195,
          75.05927616014337,
          106.83544170526412,
          147.95446791784457,
          201.16335223933547,
          270.0167671062371,
          359.1145333775527,
          474.40891594207017,
          623.602270694139,
          816.661608079644,
          1066.4844491416277,
          1389.7604572409234,
          1808.0864076158393,
          2349.408981431233,
          3049.891771608365,
          3956.331227616856,
          5129.28293882335,
          6647.107110865302,
          8611.203497122468,
          11152.78551008954,
          14441.646063897395,
          18697.500758810773,
          24204.66620042421,
          31331.05405326857,
          40552.74974547007,
          52485.81782927157,
          67927.45878615802
         ],
         "yaxis": "y"
        },
        {
         "line": {
          "color": "rgba (0, 0, 255, 1)",
          "dash": "solid",
          "width": 1.5
         },
         "mode": "lines",
         "name": "Germany Cases",
         "type": "scatter",
         "uid": "f8f6c1b9-df69-4586-9c74-d1e17cf54b84",
         "x": [
          0,
          1,
          2,
          3,
          4,
          5,
          6,
          7,
          8,
          9,
          10,
          11
         ],
         "xaxis": "x",
         "y": [
          1176,
          1457,
          1908,
          2078,
          3675,
          4585,
          5795,
          7272,
          9257,
          12327,
          15320,
          19848
         ],
         "yaxis": "y"
        },
        {
         "marker": {
          "color": "#0000FF",
          "line": {
           "color": "#0000FF",
           "width": 1
          },
          "opacity": 1,
          "size": 3,
          "symbol": "x"
         },
         "mode": "markers",
         "name": "Germany Cases Prediction",
         "type": "scatter",
         "uid": "696db40f-0930-49e1-9278-a171b8fdab08",
         "x": [
          0,
          1,
          2,
          3,
          4,
          5,
          6,
          7,
          8,
          9,
          10,
          11,
          12,
          13,
          14,
          15,
          16,
          17,
          18,
          19,
          20,
          21,
          22,
          23,
          24,
          25,
          26,
          27,
          28,
          29,
          30,
          31,
          32,
          33
         ],
         "xaxis": "x",
         "y": [
          1226.5655442815414,
          1589.9263769491836,
          2056.1649473469256,
          2654.4088552844696,
          3422.0325486204124,
          4406.9922393962825,
          5670.821900824841,
          7292.47751583627,
          9373.269741210683,
          12043.193148560062,
          15469.047452600187,
          19864.858089041554,
          25505.24715306664,
          32742.590028993753,
          42029.02954746813,
          53944.722973729215,
          69234.08651787128,
          88852.30169196625,
          114024.98893338861,
          146324.77652014064,
          187769.5483136172,
          240948.508218538,
          309183.9370601151,
          396738.7474121516,
          509082.8030724314,
          653234.6411205439,
          838199.9451637384,
          1075534.162770956,
          1380064.415828994,
          1770815.8041562864,
          2272199.9718915275,
          2915540.1906727785,
          3741028.237036598,
          4800235.317204009
         ],
         "yaxis": "y"
        },
        {
         "line": {
          "color": "rgba (0, 0, 255, 1)",
          "dash": "5.550000000000001px,2.4000000000000004px",
          "width": 1.5
         },
         "mode": "lines",
         "name": "Germany Deaths",
         "type": "scatter",
         "uid": "3c7ba077-4db0-46f6-8a70-57b75b6ea7fa",
         "x": [
          0,
          1,
          2,
          3,
          4,
          5,
          6,
          7,
          8,
          9,
          10,
          11
         ],
         "xaxis": "x",
         "y": [
          2,
          2,
          3,
          3,
          7,
          9,
          11,
          17,
          24,
          28,
          44,
          67
         ],
         "yaxis": "y"
        },
        {
         "marker": {
          "color": "#0000FF",
          "line": {
           "color": "#0000FF",
           "width": 1
          },
          "opacity": 1,
          "size": 3,
          "symbol": "circle"
         },
         "mode": "markers",
         "name": "Germany Deaths Prediction",
         "type": "scatter",
         "uid": "a34dd003-3ef3-441f-b2fe-7066028b4ea1",
         "x": [
          0,
          1,
          2,
          3,
          4,
          5,
          6,
          7,
          8,
          9,
          10,
          11,
          12,
          13,
          14,
          15,
          16,
          17,
          18,
          19,
          20,
          21,
          22,
          23,
          24,
          25,
          26,
          27,
          28,
          29,
          30,
          31,
          32,
          33
         ],
         "xaxis": "x",
         "y": [
          2.3251016404942635,
          2.773316120976693,
          3.430027868892815,
          4.392224180325806,
          5.80200822130432,
          7.8675857116583945,
          10.894014047232435,
          15.328255083038544,
          21.82518525399445,
          31.344311820510416,
          45.29147889865335,
          65.72649130723727,
          95.66731941944921,
          139.53581189310464,
          203.81074192171806,
          297.9846329589844,
          435.9656739208455,
          638.1317674656568,
          934.3400660424628,
          1368.3364628038116,
          2004.2162585651554,
          2935.8901564934677,
          4300.953581793295,
          6301.007634219575,
          9231.432798711932,
          13525.012581854622,
          19815.849685488738,
          29033.01425754032,
          42537.75477914832,
          62324.53574961851,
          91315.59267121715,
          133792.50605524416,
          196028.53199639978,
          287215.0758474112
         ],
         "yaxis": "y"
        },
        {
         "line": {
          "color": "rgba (0, 127, 0, 1)",
          "dash": "solid",
          "width": 1.5
         },
         "mode": "lines",
         "name": "Brazil Cases",
         "type": "scatter",
         "uid": "e9cedb79-0982-4dfc-815c-63f1a201a6a1",
         "x": [
          0,
          1,
          2,
          3
         ],
         "xaxis": "x",
         "y": [
          321,
          372,
          621,
          793
         ],
         "yaxis": "y"
        },
        {
         "marker": {
          "color": "#007F00",
          "line": {
           "color": "#007F00",
           "width": 1
          },
          "opacity": 1,
          "size": 3,
          "symbol": "x"
         },
         "mode": "markers",
         "name": "Brazil Cases Prediction",
         "type": "scatter",
         "uid": "06617fa2-9906-4710-8d4f-111aa9e55987",
         "x": [
          0,
          1,
          2,
          3,
          4,
          5,
          6,
          7,
          8,
          9,
          10,
          11,
          12,
          13,
          14,
          15,
          16,
          17,
          18,
          19,
          20,
          21,
          22,
          23,
          24,
          25,
          26,
          27,
          28,
          29,
          30,
          31,
          32,
          33
         ],
         "xaxis": "x",
         "y": [
          310.9775086130855,
          425.3262387647485,
          582.071751187653,
          796.9333909464193,
          1091.458723928648,
          1495.1844511719303,
          2048.59851979452,
          2807.200488117566,
          3847.067341838729,
          5272.482933441149,
          7226.396169075532,
          9904.756750283555,
          13576.16614151987,
          18608.814475964286,
          25507.404788078,
          34963.76754815214,
          47926.241416631296,
          65694.77812087313,
          90051.30912054054,
          123438.44798359253,
          169204.44977900176,
          231938.99342854242,
          317933.46121075674,
          435811.874903505,
          597395.7624846151,
          818889.6892172839,
          1122506.3450229613,
          1538694.161287026,
          2109190.855373243,
          2891209.129922633,
          3963174.293031507,
          5432589.200990236,
          7446815.265454305,
          10207850.706698325
         ],
         "yaxis": "y"
        },
        {
         "line": {
          "color": "rgba (0, 127, 0, 1)",
          "dash": "5.550000000000001px,2.4000000000000004px",
          "width": 1.5
         },
         "mode": "lines",
         "name": "Brazil Deaths",
         "type": "scatter",
         "uid": "1d133017-517d-453c-958c-293562ea36cc",
         "x": [
          0,
          1,
          2,
          3
         ],
         "xaxis": "x",
         "y": [
          1,
          3,
          6,
          11
         ],
         "yaxis": "y"
        },
        {
         "marker": {
          "color": "#007F00",
          "line": {
           "color": "#007F00",
           "width": 1
          },
          "opacity": 1,
          "size": 3,
          "symbol": "x"
         },
         "mode": "markers",
         "name": "Brazil Deaths Prediction",
         "type": "scatter",
         "uid": "7c4b8410-1022-4197-a2e4-734318c4dac9",
         "x": [
          0,
          1,
          2,
          3,
          4,
          5,
          6,
          7,
          8,
          9,
          10,
          11,
          12,
          13,
          14,
          15,
          16,
          17,
          18,
          19,
          20,
          21,
          22,
          23,
          24,
          25,
          26,
          27,
          28,
          29,
          30,
          31,
          32,
          33
         ],
         "xaxis": "x",
         "y": [
          1.0228440358271618,
          2.9486691335936426,
          6.037367699974073,
          10.991119130996976,
          18.936100718863255,
          31.678510851965115,
          52.115187036105056,
          84.89216792847279,
          137.46091573944912,
          221.77231877832742,
          356.99358575512906,
          573.8656858953653,
          921.6919477755009,
          1479.546592864828,
          2374.251332425243,
          3809.2067962516476,
          6110.63328045349,
          9801.733105992336,
          15721.634530442092,
          25216.15771638338,
          40443.77116211823,
          64866.29420109254,
          104035.90102850318,
          166857.34239086875,
          267612.3362368459,
          429206.3488025059,
          688375.8837338316,
          1104040.0953594178,
          1770695.3674464745,
          2839897.9578340133,
          4554718.536260532,
          7305001.450492194,
          11715991.266846713,
          18790474.789724194
         ],
         "yaxis": "y"
        }
       ],
       "layout": {
        "autosize": false,
        "height": 576,
        "hovermode": "closest",
        "margin": {
         "b": 72,
         "l": 108,
         "pad": 0,
         "r": 86,
         "t": 69
        },
        "shapes": [
         {
          "line": {
           "color": "LightSeaGreen",
           "dash": "dash",
           "width": 1
          },
          "type": "line",
          "x0": 11,
          "x1": 11,
          "xref": "x",
          "y0": 0,
          "y1": 10000000,
          "yref": "y"
         },
         {
          "line": {
           "color": "LightSeaGreen",
           "dash": "dash",
           "width": 1
          },
          "type": "line",
          "x0": 18,
          "x1": 18,
          "xref": "x",
          "y0": 0,
          "y1": 10000000,
          "yref": "y"
         }
        ],
        "showlegend": true,
        "title": {
         "font": {
          "color": "#000000",
          "size": 12
         },
         "text": "Confirmed Cases and Curve Fit since 1st Death in each Country"
        },
        "width": 864,
        "xaxis": {
         "anchor": "y",
         "domain": [
          0,
          1
         ],
         "mirror": "ticks",
         "nticks": 9,
         "range": [
          -1.6500000000000001,
          34.65
         ],
         "showgrid": true,
         "showline": true,
         "side": "bottom",
         "tickfont": {
          "size": 10
         },
         "ticks": "inside",
         "title": {
          "font": {
           "color": "#000000",
           "size": 10
          },
          "text": "Number of Days since 1st Death in each Country"
         },
         "type": "linear",
         "zeroline": false
        },
        "yaxis": {
         "anchor": "x",
         "domain": [
          0,
          1
         ],
         "mirror": "ticks",
         "nticks": 12,
         "range": [
          -0.3636968876903701,
          7.637634641497772
         ],
         "showgrid": true,
         "showline": true,
         "side": "left",
         "tickfont": {
          "size": 10
         },
         "ticks": "inside",
         "title": {
          "font": {
           "color": "#000000",
           "size": 10
          },
          "text": "Number of Cases"
         },
         "type": "log",
         "zeroline": false
        }
       }
      },
      "text/html": [
       "<div>\n",
       "        \n",
       "        \n",
       "            <div id=\"c159464f-64d8-464f-b744-f2f50ae565d9\" class=\"plotly-graph-div\" style=\"height:576px; width:864px;\"></div>\n",
       "            <script type=\"text/javascript\">\n",
       "                require([\"plotly\"], function(Plotly) {\n",
       "                    window.PLOTLYENV=window.PLOTLYENV || {};\n",
       "                    window.PLOTLYENV.BASE_URL='https://plot.ly';\n",
       "                    \n",
       "                if (document.getElementById(\"c159464f-64d8-464f-b744-f2f50ae565d9\")) {\n",
       "                    Plotly.newPlot(\n",
       "                        'c159464f-64d8-464f-b744-f2f50ae565d9',\n",
       "                        [{\"line\": {\"color\": \"rgba (255, 0, 0, 1)\", \"dash\": \"solid\", \"width\": 1.5}, \"mode\": \"lines\", \"name\": \"Italy Cases\", \"type\": \"scatter\", \"uid\": \"884ed96d-4b65-406a-88fb-2cb5a6dba927\", \"x\": [0.0, 1.0, 2.0, 3.0, 4.0, 5.0, 6.0, 7.0, 8.0, 9.0, 10.0, 11.0, 12.0, 13.0, 14.0, 15.0, 16.0, 17.0, 18.0, 19.0, 20.0, 21.0, 22.0, 23.0, 24.0, 25.0, 26.0, 27.0, 28.0], \"xaxis\": \"x\", \"y\": [20.0, 62.0, 155.0, 229.0, 322.0, 453.0, 655.0, 888.0, 1128.0, 1694.0, 2036.0, 2502.0, 3089.0, 3858.0, 4636.0, 5883.0, 7375.0, 9172.0, 10149.0, 12462.0, 12462.0, 17660.0, 21157.0, 24747.0, 27980.0, 31506.0, 35713.0, 41035.0, 47021.0], \"yaxis\": \"y\"}, {\"marker\": {\"color\": \"#FF0000\", \"line\": {\"color\": \"#FF0000\", \"width\": 1.0}, \"opacity\": 1, \"size\": 3.0, \"symbol\": \"x\"}, \"mode\": \"markers\", \"name\": \"Italy Cases Prediction\", \"type\": \"scatter\", \"uid\": \"fe82ef6b-b7cf-4ea7-83f6-b5bd5faeaab7\", \"x\": [0.0, 1.0, 2.0, 3.0, 4.0, 5.0, 6.0, 7.0, 8.0, 9.0, 10.0, 11.0, 12.0, 13.0, 14.0, 15.0, 16.0, 17.0, 18.0, 19.0, 20.0, 21.0, 22.0, 23.0, 24.0, 25.0, 26.0, 27.0, 28.0, 29.0, 30.0, 31.0, 32.0, 33.0], \"xaxis\": \"x\", \"y\": [56.41872274352045, 182.37620056799608, 328.32699798620536, 497.4446687663034, 693.4065071119516, 920.4735067381386, 1183.5830119076868, 1488.4560750323594, 1841.7218552219633, 2251.061762703181, 2725.376483384025, 3274.9795153455993, 3911.8214255181606, 4649.749702778087, 5504.8098577108185, 6495.59431615223, 7643.646692848783, 8973.930235761807, 10515.37062686774, 12301.484942113504, 14371.110446630733, 16769.249072130086, 19548.04593879, 22767.923198617344, 26498.89385456711, 30822.084123100667, 35831.49744243046, 41636.0584830415, 48361.98160544965, 56155.51526493587, 65186.12203758624, 75650.16341411567, 87775.16948362303, 101824.78634727029], \"yaxis\": \"y\"}, {\"line\": {\"color\": \"rgba (255, 0, 0, 1)\", \"dash\": \"5.550000000000001px,2.4000000000000004px\", \"width\": 1.5}, \"mode\": \"lines\", \"name\": \"Italy Deaths\", \"type\": \"scatter\", \"uid\": \"35110b43-ef59-4ceb-84d4-09e1116a5c24\", \"x\": [0.0, 1.0, 2.0, 3.0, 4.0, 5.0, 6.0, 7.0, 8.0, 9.0, 10.0, 11.0, 12.0, 13.0, 14.0, 15.0, 16.0, 17.0, 18.0, 19.0, 20.0, 21.0, 22.0, 23.0, 24.0, 25.0, 26.0, 27.0, 28.0], \"xaxis\": \"x\", \"y\": [1.0, 2.0, 3.0, 7.0, 10.0, 12.0, 17.0, 21.0, 29.0, 34.0, 52.0, 79.0, 107.0, 148.0, 197.0, 233.0, 366.0, 463.0, 631.0, 827.0, 827.0, 1266.0, 1441.0, 1809.0, 2158.0, 2503.0, 2978.0, 3405.0, 4032.0], \"yaxis\": \"y\"}, {\"marker\": {\"color\": \"#FF0000\", \"line\": {\"color\": \"#FF0000\", \"width\": 1.0}, \"opacity\": 1, \"size\": 3.0, \"symbol\": \"circle\"}, \"mode\": \"markers\", \"name\": \"Italy Deaths Prediction\", \"type\": \"scatter\", \"uid\": \"4e7cc772-d8f3-4f7a-8c55-6bd4ecaf1b42\", \"x\": [0.0, 1.0, 2.0, 3.0, 4.0, 5.0, 6.0, 7.0, 8.0, 9.0, 10.0, 11.0, 12.0, 13.0, 14.0, 15.0, 16.0, 17.0, 18.0, 19.0, 20.0, 21.0, 22.0, 23.0, 24.0, 25.0, 26.0, 27.0, 28.0, 29.0, 30.0, 31.0, 32.0, 33.0], \"xaxis\": \"x\", \"y\": [-74.96304191852917, -68.30443453870618, -60.40781368353197, -51.04299948539709, -39.93701547349862, -26.7661315389183, -11.146427473764291, 7.377397980534127, 29.345298782624624, 55.397620795759636, 86.29376733205005, 122.93433512138775, 166.38736594994504, 217.919479181471, 279.0327926482405, 351.5087081246261, 437.4598376930859, 539.3915846125328, 660.2751737196953, 803.6342601383492, 973.6476408675717, 1175.271063205583, 1414.3816806224427, 1697.9493668490102, 2034.2398818440136, 2433.0558117565843, 2906.0223060818607, 3466.9259410078344, 4132.116586535454, 4920.983991461171, 5856.52297827393, 6966.003722923353, 8281.766657551545, 9842.165166935707], \"yaxis\": \"y\"}, {\"line\": {\"color\": \"rgba (0, 0, 0, 1)\", \"dash\": \"solid\", \"width\": 1.5}, \"mode\": \"lines\", \"name\": \"Spain Cases\", \"type\": \"scatter\", \"uid\": \"da9c3af4-6812-4988-9c68-e5dd9a70751c\", \"x\": [0.0, 1.0, 2.0, 3.0, 4.0, 5.0, 6.0, 7.0, 8.0, 9.0, 10.0, 11.0, 12.0, 13.0, 14.0, 15.0, 16.0, 17.0], \"xaxis\": \"x\", \"y\": [165.0, 222.0, 259.0, 400.0, 500.0, 673.0, 1073.0, 1695.0, 2277.0, 2277.0, 5232.0, 6391.0, 7798.0, 9942.0, 11748.0, 13910.0, 17963.0, 20410.0], \"yaxis\": \"y\"}, {\"marker\": {\"color\": \"#000000\", \"line\": {\"color\": \"#000000\", \"width\": 1.0}, \"opacity\": 1, \"size\": 3.0, \"symbol\": \"x\"}, \"mode\": \"markers\", \"name\": \"Spain Cases Prediction\", \"type\": \"scatter\", \"uid\": \"dfed6ea7-6e6a-487a-8cee-624a28b0a5bd\", \"x\": [0.0, 1.0, 2.0, 3.0, 4.0, 5.0, 6.0, 7.0, 8.0, 9.0, 10.0, 11.0, 12.0, 13.0, 14.0, 15.0, 16.0, 17.0, 18.0, 19.0, 20.0, 21.0, 22.0, 23.0, 24.0, 25.0, 26.0, 27.0, 28.0, 29.0, 30.0, 31.0, 32.0, 33.0], \"xaxis\": \"x\", \"y\": [252.1596387676152, 393.64897327879055, 568.4157009600633, 784.2864534089531, 1050.9286362839225, 1380.2833676765506, 1787.1002408401437, 2289.597859716944, 2910.2797282276265, 3676.9420315416774, 4623.918441104206, 5793.617689901868, 7238.42277566941, 9023.036844632388, 11227.380812212403, 13950.172485725336, 17313.34747401454, 21467.519866961826, 26598.727232149715, 32936.76199191531, 40765.46228739172, 50435.42318843584, 62379.697499428905, 77133.18929491729, 95356.6086917084, 117866.06063127526, 145669.59275592637, 180012.33911340975, 222432.28137422592, 274829.1247332266, 339549.3729859845, 419491.4127229846, 518235.3126591192, 640203.1509413918], \"yaxis\": \"y\"}, {\"line\": {\"color\": \"rgba (0, 0, 0, 1)\", \"dash\": \"5.550000000000001px,2.4000000000000004px\", \"width\": 1.5}, \"mode\": \"lines\", \"name\": \"Spain Deaths\", \"type\": \"scatter\", \"uid\": \"a096a57d-86dd-42e4-b40d-31dc3acc23c5\", \"x\": [0.0, 1.0, 2.0, 3.0, 4.0, 5.0, 6.0, 7.0, 8.0, 9.0, 10.0, 11.0, 12.0, 13.0, 14.0, 15.0, 16.0, 17.0], \"xaxis\": \"x\", \"y\": [1.0, 2.0, 3.0, 5.0, 10.0, 17.0, 28.0, 35.0, 54.0, 55.0, 133.0, 195.0, 289.0, 342.0, 533.0, 623.0, 830.0, 1043.0], \"yaxis\": \"y\"}, {\"marker\": {\"color\": \"#000000\", \"line\": {\"color\": \"#000000\", \"width\": 1.0}, \"opacity\": 1, \"size\": 3.0, \"symbol\": \"circle\"}, \"mode\": \"markers\", \"name\": \"Spain Deaths Prediction\", \"type\": \"scatter\", \"uid\": \"b345a2bb-589f-4358-93ee-87f16d09cb7b\", \"x\": [0.0, 1.0, 2.0, 3.0, 4.0, 5.0, 6.0, 7.0, 8.0, 9.0, 10.0, 11.0, 12.0, 13.0, 14.0, 15.0, 16.0, 17.0, 18.0, 19.0, 20.0, 21.0, 22.0, 23.0, 24.0, 25.0, 26.0, 27.0, 28.0, 29.0, 30.0, 31.0, 32.0, 33.0], \"xaxis\": \"x\", \"y\": [-19.268681874225663, -15.22691894951216, -9.996792759165405, -3.228899521367442, 5.528896602705558, 16.86166889327187, 31.526514474319484, 50.503132939952195, 75.05927616014337, 106.83544170526412, 147.95446791784457, 201.16335223933547, 270.0167671062371, 359.1145333775527, 474.40891594207017, 623.602270694139, 816.661608079644, 1066.4844491416277, 1389.7604572409234, 1808.0864076158393, 2349.408981431233, 3049.891771608365, 3956.331227616856, 5129.28293882335, 6647.107110865302, 8611.203497122468, 11152.78551008954, 14441.646063897395, 18697.500758810773, 24204.66620042421, 31331.05405326857, 40552.74974547007, 52485.81782927157, 67927.45878615802], \"yaxis\": \"y\"}, {\"line\": {\"color\": \"rgba (0, 0, 255, 1)\", \"dash\": \"solid\", \"width\": 1.5}, \"mode\": \"lines\", \"name\": \"Germany Cases\", \"type\": \"scatter\", \"uid\": \"f8f6c1b9-df69-4586-9c74-d1e17cf54b84\", \"x\": [0.0, 1.0, 2.0, 3.0, 4.0, 5.0, 6.0, 7.0, 8.0, 9.0, 10.0, 11.0], \"xaxis\": \"x\", \"y\": [1176.0, 1457.0, 1908.0, 2078.0, 3675.0, 4585.0, 5795.0, 7272.0, 9257.0, 12327.0, 15320.0, 19848.0], \"yaxis\": \"y\"}, {\"marker\": {\"color\": \"#0000FF\", \"line\": {\"color\": \"#0000FF\", \"width\": 1.0}, \"opacity\": 1, \"size\": 3.0, \"symbol\": \"x\"}, \"mode\": \"markers\", \"name\": \"Germany Cases Prediction\", \"type\": \"scatter\", \"uid\": \"696db40f-0930-49e1-9278-a171b8fdab08\", \"x\": [0.0, 1.0, 2.0, 3.0, 4.0, 5.0, 6.0, 7.0, 8.0, 9.0, 10.0, 11.0, 12.0, 13.0, 14.0, 15.0, 16.0, 17.0, 18.0, 19.0, 20.0, 21.0, 22.0, 23.0, 24.0, 25.0, 26.0, 27.0, 28.0, 29.0, 30.0, 31.0, 32.0, 33.0], \"xaxis\": \"x\", \"y\": [1226.5655442815414, 1589.9263769491836, 2056.1649473469256, 2654.4088552844696, 3422.0325486204124, 4406.9922393962825, 5670.821900824841, 7292.47751583627, 9373.269741210683, 12043.193148560062, 15469.047452600187, 19864.858089041554, 25505.24715306664, 32742.590028993753, 42029.02954746813, 53944.722973729215, 69234.08651787128, 88852.30169196625, 114024.98893338861, 146324.77652014064, 187769.5483136172, 240948.508218538, 309183.9370601151, 396738.7474121516, 509082.8030724314, 653234.6411205439, 838199.9451637384, 1075534.162770956, 1380064.415828994, 1770815.8041562864, 2272199.9718915275, 2915540.1906727785, 3741028.237036598, 4800235.317204009], \"yaxis\": \"y\"}, {\"line\": {\"color\": \"rgba (0, 0, 255, 1)\", \"dash\": \"5.550000000000001px,2.4000000000000004px\", \"width\": 1.5}, \"mode\": \"lines\", \"name\": \"Germany Deaths\", \"type\": \"scatter\", \"uid\": \"3c7ba077-4db0-46f6-8a70-57b75b6ea7fa\", \"x\": [0.0, 1.0, 2.0, 3.0, 4.0, 5.0, 6.0, 7.0, 8.0, 9.0, 10.0, 11.0], \"xaxis\": \"x\", \"y\": [2.0, 2.0, 3.0, 3.0, 7.0, 9.0, 11.0, 17.0, 24.0, 28.0, 44.0, 67.0], \"yaxis\": \"y\"}, {\"marker\": {\"color\": \"#0000FF\", \"line\": {\"color\": \"#0000FF\", \"width\": 1.0}, \"opacity\": 1, \"size\": 3.0, \"symbol\": \"circle\"}, \"mode\": \"markers\", \"name\": \"Germany Deaths Prediction\", \"type\": \"scatter\", \"uid\": \"a34dd003-3ef3-441f-b2fe-7066028b4ea1\", \"x\": [0.0, 1.0, 2.0, 3.0, 4.0, 5.0, 6.0, 7.0, 8.0, 9.0, 10.0, 11.0, 12.0, 13.0, 14.0, 15.0, 16.0, 17.0, 18.0, 19.0, 20.0, 21.0, 22.0, 23.0, 24.0, 25.0, 26.0, 27.0, 28.0, 29.0, 30.0, 31.0, 32.0, 33.0], \"xaxis\": \"x\", \"y\": [2.3251016404942635, 2.773316120976693, 3.430027868892815, 4.392224180325806, 5.80200822130432, 7.8675857116583945, 10.894014047232435, 15.328255083038544, 21.82518525399445, 31.344311820510416, 45.29147889865335, 65.72649130723727, 95.66731941944921, 139.53581189310464, 203.81074192171806, 297.9846329589844, 435.9656739208455, 638.1317674656568, 934.3400660424628, 1368.3364628038116, 2004.2162585651554, 2935.8901564934677, 4300.953581793295, 6301.007634219575, 9231.432798711932, 13525.012581854622, 19815.849685488738, 29033.01425754032, 42537.75477914832, 62324.53574961851, 91315.59267121715, 133792.50605524416, 196028.53199639978, 287215.0758474112], \"yaxis\": \"y\"}, {\"line\": {\"color\": \"rgba (0, 127, 0, 1)\", \"dash\": \"solid\", \"width\": 1.5}, \"mode\": \"lines\", \"name\": \"Brazil Cases\", \"type\": \"scatter\", \"uid\": \"e9cedb79-0982-4dfc-815c-63f1a201a6a1\", \"x\": [0.0, 1.0, 2.0, 3.0], \"xaxis\": \"x\", \"y\": [321.0, 372.0, 621.0, 793.0], \"yaxis\": \"y\"}, {\"marker\": {\"color\": \"#007F00\", \"line\": {\"color\": \"#007F00\", \"width\": 1.0}, \"opacity\": 1, \"size\": 3.0, \"symbol\": \"x\"}, \"mode\": \"markers\", \"name\": \"Brazil Cases Prediction\", \"type\": \"scatter\", \"uid\": \"06617fa2-9906-4710-8d4f-111aa9e55987\", \"x\": [0.0, 1.0, 2.0, 3.0, 4.0, 5.0, 6.0, 7.0, 8.0, 9.0, 10.0, 11.0, 12.0, 13.0, 14.0, 15.0, 16.0, 17.0, 18.0, 19.0, 20.0, 21.0, 22.0, 23.0, 24.0, 25.0, 26.0, 27.0, 28.0, 29.0, 30.0, 31.0, 32.0, 33.0], \"xaxis\": \"x\", \"y\": [310.9775086130855, 425.3262387647485, 582.071751187653, 796.9333909464193, 1091.458723928648, 1495.1844511719303, 2048.59851979452, 2807.200488117566, 3847.067341838729, 5272.482933441149, 7226.396169075532, 9904.756750283555, 13576.16614151987, 18608.814475964286, 25507.404788078, 34963.76754815214, 47926.241416631296, 65694.77812087313, 90051.30912054054, 123438.44798359253, 169204.44977900176, 231938.99342854242, 317933.46121075674, 435811.874903505, 597395.7624846151, 818889.6892172839, 1122506.3450229613, 1538694.161287026, 2109190.855373243, 2891209.129922633, 3963174.293031507, 5432589.200990236, 7446815.265454305, 10207850.706698325], \"yaxis\": \"y\"}, {\"line\": {\"color\": \"rgba (0, 127, 0, 1)\", \"dash\": \"5.550000000000001px,2.4000000000000004px\", \"width\": 1.5}, \"mode\": \"lines\", \"name\": \"Brazil Deaths\", \"type\": \"scatter\", \"uid\": \"1d133017-517d-453c-958c-293562ea36cc\", \"x\": [0.0, 1.0, 2.0, 3.0], \"xaxis\": \"x\", \"y\": [1.0, 3.0, 6.0, 11.0], \"yaxis\": \"y\"}, {\"marker\": {\"color\": \"#007F00\", \"line\": {\"color\": \"#007F00\", \"width\": 1.0}, \"opacity\": 1, \"size\": 3.0, \"symbol\": \"x\"}, \"mode\": \"markers\", \"name\": \"Brazil Deaths Prediction\", \"type\": \"scatter\", \"uid\": \"7c4b8410-1022-4197-a2e4-734318c4dac9\", \"x\": [0.0, 1.0, 2.0, 3.0, 4.0, 5.0, 6.0, 7.0, 8.0, 9.0, 10.0, 11.0, 12.0, 13.0, 14.0, 15.0, 16.0, 17.0, 18.0, 19.0, 20.0, 21.0, 22.0, 23.0, 24.0, 25.0, 26.0, 27.0, 28.0, 29.0, 30.0, 31.0, 32.0, 33.0], \"xaxis\": \"x\", \"y\": [1.0228440358271618, 2.9486691335936426, 6.037367699974073, 10.991119130996976, 18.936100718863255, 31.678510851965115, 52.115187036105056, 84.89216792847279, 137.46091573944912, 221.77231877832742, 356.99358575512906, 573.8656858953653, 921.6919477755009, 1479.546592864828, 2374.251332425243, 3809.2067962516476, 6110.63328045349, 9801.733105992336, 15721.634530442092, 25216.15771638338, 40443.77116211823, 64866.29420109254, 104035.90102850318, 166857.34239086875, 267612.3362368459, 429206.3488025059, 688375.8837338316, 1104040.0953594178, 1770695.3674464745, 2839897.9578340133, 4554718.536260532, 7305001.450492194, 11715991.266846713, 18790474.789724194], \"yaxis\": \"y\"}],\n",
       "                        {\"autosize\": false, \"height\": 576, \"hovermode\": \"closest\", \"margin\": {\"b\": 72, \"l\": 108, \"pad\": 0, \"r\": 86, \"t\": 69}, \"shapes\": [{\"line\": {\"color\": \"LightSeaGreen\", \"dash\": \"dash\", \"width\": 1}, \"type\": \"line\", \"x0\": 11, \"x1\": 11, \"xref\": \"x\", \"y0\": 0, \"y1\": 10000000, \"yref\": \"y\"}, {\"line\": {\"color\": \"LightSeaGreen\", \"dash\": \"dash\", \"width\": 1}, \"type\": \"line\", \"x0\": 18, \"x1\": 18, \"xref\": \"x\", \"y0\": 0, \"y1\": 10000000, \"yref\": \"y\"}], \"showlegend\": true, \"title\": {\"font\": {\"color\": \"#000000\", \"size\": 12.0}, \"text\": \"Confirmed Cases and Curve Fit since 1st Death in each Country\"}, \"width\": 864, \"xaxis\": {\"anchor\": \"y\", \"domain\": [0.0, 1.0], \"mirror\": \"ticks\", \"nticks\": 9, \"range\": [-1.6500000000000001, 34.65], \"showgrid\": true, \"showline\": true, \"side\": \"bottom\", \"tickfont\": {\"size\": 10.0}, \"ticks\": \"inside\", \"title\": {\"font\": {\"color\": \"#000000\", \"size\": 10.0}, \"text\": \"Number of Days since 1st Death in each Country\"}, \"type\": \"linear\", \"zeroline\": false}, \"yaxis\": {\"anchor\": \"x\", \"domain\": [0.0, 1.0], \"mirror\": \"ticks\", \"nticks\": 12, \"range\": [-0.3636968876903701, 7.637634641497772], \"showgrid\": true, \"showline\": true, \"side\": \"left\", \"tickfont\": {\"size\": 10.0}, \"ticks\": \"inside\", \"title\": {\"font\": {\"color\": \"#000000\", \"size\": 10.0}, \"text\": \"Number of Cases\"}, \"type\": \"log\", \"zeroline\": false}},\n",
       "                        {\"showLink\": false, \"linkText\": \"Export to plot.ly\", \"plotlyServerURL\": \"https://plot.ly\", \"responsive\": true}\n",
       "                    ).then(function(){\n",
       "                            \n",
       "var gd = document.getElementById('c159464f-64d8-464f-b744-f2f50ae565d9');\n",
       "var x = new MutationObserver(function (mutations, observer) {{\n",
       "        var display = window.getComputedStyle(gd).display;\n",
       "        if (!display || display === 'none') {{\n",
       "            console.log([gd, 'removed!']);\n",
       "            Plotly.purge(gd);\n",
       "            observer.disconnect();\n",
       "        }}\n",
       "}});\n",
       "\n",
       "// Listen for the removal of the full notebook cells\n",
       "var notebookContainer = gd.closest('#notebook-container');\n",
       "if (notebookContainer) {{\n",
       "    x.observe(notebookContainer, {childList: true});\n",
       "}}\n",
       "\n",
       "// Listen for the clearing of the current output cell\n",
       "var outputEl = gd.closest('.output');\n",
       "if (outputEl) {{\n",
       "    x.observe(outputEl, {childList: true});\n",
       "}}\n",
       "\n",
       "                        })\n",
       "                };\n",
       "                });\n",
       "            </script>\n",
       "        </div>"
      ]
     },
     "metadata": {},
     "output_type": "display_data"
    }
   ],
   "source": [
    "fig=plt.figure(figsize=(12,8))\n",
    "plt.yscale('log')\n",
    "plt.xlabel('Number of Days since 1st Death in each Country')\n",
    "plt.ylabel('Number of Cases')\n",
    "plt.title('Confirmed Cases and Curve Fit since 1st Death in each Country')\n",
    "plt.grid()\n",
    "## Italy\n",
    "# Italy Case\n",
    "plt.plot(Italy_confirmed.tolist()[14:], 'r', label='Italy Cases')\n",
    "plt.plot(Italy_cases_prediction[14:], 'rx',label = 'Italy Cases Prediction', markersize=3)\n",
    "# Italy Deaths\n",
    "plt.plot(Italy_deaths, 'r', label='Italy Deaths',linestyle='dashed')\n",
    "plt.plot(Italy_deaths_prediction, 'r.',label = 'Italy Deaths Prediction', markersize=3)\n",
    "\n",
    "## Spain\n",
    "# Spain Cases\n",
    "plt.plot(Spain_confirmed.tolist()[14:], 'k', label='Spain Cases')\n",
    "plt.plot(Spain_cases_prediction[14:], 'kx',label = 'Spain Cases Prediction', markersize=3)\n",
    "#Spain Deaths\n",
    "plt.plot(Spain_deaths, 'k', label='Spain Deaths',linestyle='dashed')\n",
    "plt.plot(Spain_deaths_prediction, 'k.',label = 'Spain Deaths Prediction', markersize=3)\n",
    "\n",
    "## Germany\n",
    "# Germany Cases\n",
    "plt.plot(Germany_confirmed.tolist()[14:], 'b', label='Germany Cases')\n",
    "plt.plot(Germany_cases_prediction[14:], 'bx',label = 'Germany Cases Prediction', markersize=3)\n",
    "# Germany Deaths\n",
    "plt.plot(Germany_deaths, 'b', label='Germany Deaths',linestyle='dashed')\n",
    "plt.plot(Germany_deaths_prediction, 'b.',label = 'Germany Deaths Prediction', markersize=3)\n",
    "\n",
    "## Brazil\n",
    "# Brazil Cases\n",
    "plt.plot(Brazil_confirmed.tolist()[14:], 'g', label='Brazil Cases')\n",
    "plt.plot(Brazil_cases_prediction[14:], 'gx',label = 'Brazil Cases Prediction', markersize=3)\n",
    "# Brazil Deaths\n",
    "plt.plot(Brazil_deaths,label = 'Brazil Deaths', linestyle='dashed', color='g')\n",
    "plt.plot(Brazil_deaths_prediction, 'gx',label = 'Brazil Deaths Prediction', markersize=3)\n",
    "\n",
    "\n",
    "# Transfomr to Plotlly\n",
    "plotly_fig = tls.mpl_to_plotly(fig)\n",
    "shapes = list()\n",
    "for i in (11, 18):\n",
    "    shapes.append({'type': 'line',\n",
    "                   'xref': 'x',\n",
    "                   'yref': 'y',\n",
    "                   'x0': i,\n",
    "                   'y0': 0,\n",
    "                   'x1': i,\n",
    "                   'y1': 10000000,\n",
    "                   'line' : dict(color=\"LightSeaGreen\", \n",
    "                            width=1,\n",
    "                            dash=\"dash\",)},\n",
    "                 )\n",
    "                \n",
    "plotly_fig.layout.update(showlegend=True, shapes=shapes)\n",
    "plotly.offline.iplot(plotly_fig)"
   ]
  },
  {
   "cell_type": "markdown",
   "metadata": {
    "slideshow": {
     "slide_type": "-"
    }
   },
   "source": [
    "### Mortes / Casos Confirmados"
   ]
  },
  {
   "cell_type": "code",
   "execution_count": 39,
   "metadata": {
    "slideshow": {
     "slide_type": "-"
    }
   },
   "outputs": [
    {
     "data": {
      "application/vnd.plotly.v1+json": {
       "config": {
        "linkText": "Export to plot.ly",
        "plotlyServerURL": "https://plot.ly",
        "showLink": false
       },
       "data": [
        {
         "line": {
          "color": "rgba (255, 0, 0, 1)",
          "dash": "solid",
          "width": 1.5
         },
         "mode": "lines",
         "name": "Italy Deaths/Cases",
         "type": "scatter",
         "uid": "3433521f-9c31-4c5d-94d7-b5c6d970762f",
         "x": [
          0,
          1,
          2,
          3,
          4,
          5,
          6,
          7,
          8,
          9,
          10,
          11,
          12,
          13,
          14,
          15,
          16,
          17,
          18,
          19,
          20,
          21,
          22,
          23,
          24,
          25,
          26,
          27,
          28
         ],
         "xaxis": "x",
         "y": [
          0.05,
          0.03225806451612903,
          0.01935483870967742,
          0.03056768558951965,
          0.031055900621118012,
          0.026490066225165563,
          0.025954198473282442,
          0.02364864864864865,
          0.025709219858156027,
          0.020070838252656435,
          0.025540275049115914,
          0.03157474020783373,
          0.03463904176108773,
          0.0383618455158113,
          0.042493528904227786,
          0.039605643379228284,
          0.0496271186440678,
          0.050479720889664195,
          0.062173613163858506,
          0.06636173968865351,
          0.06636173968865351,
          0.07168742921857305,
          0.06810984544122513,
          0.0730997696690508,
          0.0771265189421015,
          0.07944518504411859,
          0.08338700193206955,
          0.08297794565614719,
          0.08574892069500861
         ],
         "yaxis": "y"
        },
        {
         "line": {
          "color": "rgba (0, 0, 0, 1)",
          "dash": "solid",
          "width": 1.5
         },
         "mode": "lines",
         "name": "Spain Deaths/Cases",
         "type": "scatter",
         "uid": "ef0b88fb-156a-4723-b485-0ce4ea11386b",
         "x": [
          0,
          1,
          2,
          3,
          4,
          5,
          6,
          7,
          8,
          9,
          10,
          11,
          12,
          13,
          14,
          15,
          16,
          17
         ],
         "xaxis": "x",
         "y": [
          0.006060606060606061,
          0.009009009009009009,
          0.011583011583011582,
          0.0125,
          0.02,
          0.02526002971768202,
          0.0260950605778192,
          0.02064896755162242,
          0.023715415019762844,
          0.024154589371980676,
          0.025420489296636085,
          0.030511657017681115,
          0.037060784816619646,
          0.0343995171997586,
          0.04536942458290773,
          0.04478792235801582,
          0.046206090296721035,
          0.05110240078392945
         ],
         "yaxis": "y"
        },
        {
         "line": {
          "color": "rgba (0, 0, 255, 1)",
          "dash": "solid",
          "width": 1.5
         },
         "mode": "lines",
         "name": "Germany Deaths/Cases",
         "type": "scatter",
         "uid": "60ca6a34-223d-4317-9f8d-78a82729bb79",
         "x": [
          0,
          1,
          2,
          3,
          4,
          5,
          6,
          7,
          8,
          9,
          10,
          11
         ],
         "xaxis": "x",
         "y": [
          0.0017006802721088435,
          0.0013726835964310226,
          0.0015723270440251573,
          0.0014436958614051972,
          0.0019047619047619048,
          0.0019629225736095966,
          0.0018981880931837791,
          0.0023377337733773377,
          0.0025926326023549746,
          0.002271436683702442,
          0.0028720626631853785,
          0.0033756549778315194
         ],
         "yaxis": "y"
        },
        {
         "line": {
          "color": "rgba (0, 127, 0, 1)",
          "dash": "solid",
          "width": 1.5
         },
         "mode": "lines",
         "name": "Brazil Deaths/Cases",
         "type": "scatter",
         "uid": "04abe401-a99c-42e2-aac3-78b8fcfd0d79",
         "x": [
          0,
          1,
          2,
          3
         ],
         "xaxis": "x",
         "y": [
          0.003115264797507788,
          0.008064516129032258,
          0.00966183574879227,
          0.013871374527112233
         ],
         "yaxis": "y"
        }
       ],
       "layout": {
        "autosize": false,
        "height": 576,
        "hovermode": "closest",
        "margin": {
         "b": 72,
         "l": 108,
         "pad": 0,
         "r": 86,
         "t": 69
        },
        "shapes": [
         {
          "line": {
           "color": "LightSeaGreen",
           "dash": "dash",
           "width": 1
          },
          "type": "line",
          "x0": 11,
          "x1": 11,
          "xref": "x",
          "y0": 0,
          "y1": 10000000,
          "yref": "y"
         },
         {
          "line": {
           "color": "LightSeaGreen",
           "dash": "dash",
           "width": 1
          },
          "type": "line",
          "x0": 18,
          "x1": 18,
          "xref": "x",
          "y0": 0,
          "y1": 10000000,
          "yref": "y"
         }
        ],
        "showlegend": true,
        "title": {
         "font": {
          "color": "#000000",
          "size": 12
         },
         "text": "Deaths / Cases since 1st Death in each Country"
        },
        "width": 864,
        "xaxis": {
         "anchor": "y",
         "domain": [
          0,
          1
         ],
         "mirror": "ticks",
         "nticks": 8,
         "range": [
          -1.4000000000000001,
          29.4
         ],
         "showgrid": true,
         "showline": true,
         "side": "bottom",
         "tickfont": {
          "size": 10
         },
         "ticks": "inside",
         "title": {
          "font": {
           "color": "#000000",
           "size": 10
          },
          "text": "Number of Days since 1st Death in each Country"
         },
         "type": "linear",
         "zeroline": false
        },
        "yaxis": {
         "anchor": "x",
         "domain": [
          0,
          1
         ],
         "mirror": "ticks",
         "nticks": 6,
         "range": [
          -2.95221246702976,
          -0.9769884267072364
         ],
         "showgrid": true,
         "showline": true,
         "side": "left",
         "tickfont": {
          "size": 10
         },
         "ticks": "inside",
         "title": {
          "font": {
           "color": "#000000",
           "size": 10
          },
          "text": "Number of Deaths / Cases"
         },
         "type": "log",
         "zeroline": false
        }
       }
      },
      "text/html": [
       "<div>\n",
       "        \n",
       "        \n",
       "            <div id=\"d8b8e0ea-9286-40cb-b6c0-f75631e294cb\" class=\"plotly-graph-div\" style=\"height:576px; width:864px;\"></div>\n",
       "            <script type=\"text/javascript\">\n",
       "                require([\"plotly\"], function(Plotly) {\n",
       "                    window.PLOTLYENV=window.PLOTLYENV || {};\n",
       "                    window.PLOTLYENV.BASE_URL='https://plot.ly';\n",
       "                    \n",
       "                if (document.getElementById(\"d8b8e0ea-9286-40cb-b6c0-f75631e294cb\")) {\n",
       "                    Plotly.newPlot(\n",
       "                        'd8b8e0ea-9286-40cb-b6c0-f75631e294cb',\n",
       "                        [{\"line\": {\"color\": \"rgba (255, 0, 0, 1)\", \"dash\": \"solid\", \"width\": 1.5}, \"mode\": \"lines\", \"name\": \"Italy Deaths/Cases\", \"type\": \"scatter\", \"uid\": \"3433521f-9c31-4c5d-94d7-b5c6d970762f\", \"x\": [0.0, 1.0, 2.0, 3.0, 4.0, 5.0, 6.0, 7.0, 8.0, 9.0, 10.0, 11.0, 12.0, 13.0, 14.0, 15.0, 16.0, 17.0, 18.0, 19.0, 20.0, 21.0, 22.0, 23.0, 24.0, 25.0, 26.0, 27.0, 28.0], \"xaxis\": \"x\", \"y\": [0.05, 0.03225806451612903, 0.01935483870967742, 0.03056768558951965, 0.031055900621118012, 0.026490066225165563, 0.025954198473282442, 0.02364864864864865, 0.025709219858156027, 0.020070838252656435, 0.025540275049115914, 0.03157474020783373, 0.03463904176108773, 0.0383618455158113, 0.042493528904227786, 0.039605643379228284, 0.0496271186440678, 0.050479720889664195, 0.062173613163858506, 0.06636173968865351, 0.06636173968865351, 0.07168742921857305, 0.06810984544122513, 0.0730997696690508, 0.0771265189421015, 0.07944518504411859, 0.08338700193206955, 0.08297794565614719, 0.08574892069500861], \"yaxis\": \"y\"}, {\"line\": {\"color\": \"rgba (0, 0, 0, 1)\", \"dash\": \"solid\", \"width\": 1.5}, \"mode\": \"lines\", \"name\": \"Spain Deaths/Cases\", \"type\": \"scatter\", \"uid\": \"ef0b88fb-156a-4723-b485-0ce4ea11386b\", \"x\": [0.0, 1.0, 2.0, 3.0, 4.0, 5.0, 6.0, 7.0, 8.0, 9.0, 10.0, 11.0, 12.0, 13.0, 14.0, 15.0, 16.0, 17.0], \"xaxis\": \"x\", \"y\": [0.006060606060606061, 0.009009009009009009, 0.011583011583011582, 0.0125, 0.02, 0.02526002971768202, 0.0260950605778192, 0.02064896755162242, 0.023715415019762844, 0.024154589371980676, 0.025420489296636085, 0.030511657017681115, 0.037060784816619646, 0.0343995171997586, 0.04536942458290773, 0.04478792235801582, 0.046206090296721035, 0.05110240078392945], \"yaxis\": \"y\"}, {\"line\": {\"color\": \"rgba (0, 0, 255, 1)\", \"dash\": \"solid\", \"width\": 1.5}, \"mode\": \"lines\", \"name\": \"Germany Deaths/Cases\", \"type\": \"scatter\", \"uid\": \"60ca6a34-223d-4317-9f8d-78a82729bb79\", \"x\": [0.0, 1.0, 2.0, 3.0, 4.0, 5.0, 6.0, 7.0, 8.0, 9.0, 10.0, 11.0], \"xaxis\": \"x\", \"y\": [0.0017006802721088435, 0.0013726835964310226, 0.0015723270440251573, 0.0014436958614051972, 0.0019047619047619048, 0.0019629225736095966, 0.0018981880931837791, 0.0023377337733773377, 0.0025926326023549746, 0.002271436683702442, 0.0028720626631853785, 0.0033756549778315194], \"yaxis\": \"y\"}, {\"line\": {\"color\": \"rgba (0, 127, 0, 1)\", \"dash\": \"solid\", \"width\": 1.5}, \"mode\": \"lines\", \"name\": \"Brazil Deaths/Cases\", \"type\": \"scatter\", \"uid\": \"04abe401-a99c-42e2-aac3-78b8fcfd0d79\", \"x\": [0.0, 1.0, 2.0, 3.0], \"xaxis\": \"x\", \"y\": [0.003115264797507788, 0.008064516129032258, 0.00966183574879227, 0.013871374527112233], \"yaxis\": \"y\"}],\n",
       "                        {\"autosize\": false, \"height\": 576, \"hovermode\": \"closest\", \"margin\": {\"b\": 72, \"l\": 108, \"pad\": 0, \"r\": 86, \"t\": 69}, \"shapes\": [{\"line\": {\"color\": \"LightSeaGreen\", \"dash\": \"dash\", \"width\": 1}, \"type\": \"line\", \"x0\": 11, \"x1\": 11, \"xref\": \"x\", \"y0\": 0, \"y1\": 10000000, \"yref\": \"y\"}, {\"line\": {\"color\": \"LightSeaGreen\", \"dash\": \"dash\", \"width\": 1}, \"type\": \"line\", \"x0\": 18, \"x1\": 18, \"xref\": \"x\", \"y0\": 0, \"y1\": 10000000, \"yref\": \"y\"}], \"showlegend\": true, \"title\": {\"font\": {\"color\": \"#000000\", \"size\": 12.0}, \"text\": \"Deaths / Cases since 1st Death in each Country\"}, \"width\": 864, \"xaxis\": {\"anchor\": \"y\", \"domain\": [0.0, 1.0], \"mirror\": \"ticks\", \"nticks\": 8, \"range\": [-1.4000000000000001, 29.4], \"showgrid\": true, \"showline\": true, \"side\": \"bottom\", \"tickfont\": {\"size\": 10.0}, \"ticks\": \"inside\", \"title\": {\"font\": {\"color\": \"#000000\", \"size\": 10.0}, \"text\": \"Number of Days since 1st Death in each Country\"}, \"type\": \"linear\", \"zeroline\": false}, \"yaxis\": {\"anchor\": \"x\", \"domain\": [0.0, 1.0], \"mirror\": \"ticks\", \"nticks\": 6, \"range\": [-2.95221246702976, -0.9769884267072364], \"showgrid\": true, \"showline\": true, \"side\": \"left\", \"tickfont\": {\"size\": 10.0}, \"ticks\": \"inside\", \"title\": {\"font\": {\"color\": \"#000000\", \"size\": 10.0}, \"text\": \"Number of Deaths / Cases\"}, \"type\": \"log\", \"zeroline\": false}},\n",
       "                        {\"showLink\": false, \"linkText\": \"Export to plot.ly\", \"plotlyServerURL\": \"https://plot.ly\", \"responsive\": true}\n",
       "                    ).then(function(){\n",
       "                            \n",
       "var gd = document.getElementById('d8b8e0ea-9286-40cb-b6c0-f75631e294cb');\n",
       "var x = new MutationObserver(function (mutations, observer) {{\n",
       "        var display = window.getComputedStyle(gd).display;\n",
       "        if (!display || display === 'none') {{\n",
       "            console.log([gd, 'removed!']);\n",
       "            Plotly.purge(gd);\n",
       "            observer.disconnect();\n",
       "        }}\n",
       "}});\n",
       "\n",
       "// Listen for the removal of the full notebook cells\n",
       "var notebookContainer = gd.closest('#notebook-container');\n",
       "if (notebookContainer) {{\n",
       "    x.observe(notebookContainer, {childList: true});\n",
       "}}\n",
       "\n",
       "// Listen for the clearing of the current output cell\n",
       "var outputEl = gd.closest('.output');\n",
       "if (outputEl) {{\n",
       "    x.observe(outputEl, {childList: true});\n",
       "}}\n",
       "\n",
       "                        })\n",
       "                };\n",
       "                });\n",
       "            </script>\n",
       "        </div>"
      ]
     },
     "metadata": {},
     "output_type": "display_data"
    }
   ],
   "source": [
    "fig=plt.figure(figsize=(12,8))\n",
    "plt.yscale('log')\n",
    "plt.xlabel('Number of Days since 1st Death in each Country')\n",
    "plt.ylabel('Number of Deaths / Cases')\n",
    "plt.title('Deaths / Cases since 1st Death in each Country')\n",
    "plt.grid()\n",
    "\n",
    "## Italy\n",
    "plt.plot(Italy_death_rate, 'r', label='Italy Deaths/Cases')\n",
    "\n",
    "## Spain\n",
    "plt.plot(Spain_death_rate, 'k', label='Spain Deaths/Cases')\n",
    "\n",
    "## Germany\n",
    "plt.plot(Germany_death_rate, 'b', label='Germany Deaths/Cases')\n",
    "\n",
    "## Brazil\n",
    "plt.plot(Brazil_death_rate, 'g', label='Brazil Deaths/Cases')\n",
    "\n",
    "# Transfomr to Plotlly\n",
    "plotly_fig = tls.mpl_to_plotly(fig)\n",
    "shapes = list()\n",
    "for i in (11, 18):\n",
    "    shapes.append({'type': 'line',\n",
    "                   'xref': 'x',\n",
    "                   'yref': 'y',\n",
    "                   'x0': i,\n",
    "                   'y0': 0,\n",
    "                   'x1': i,\n",
    "                   'y1': 10000000,\n",
    "                   'line' : dict(color=\"LightSeaGreen\", \n",
    "                            width=1,\n",
    "                            dash=\"dash\",)},\n",
    "                 )\n",
    "                \n",
    "plotly_fig.layout.update(showlegend=True, shapes=shapes)\n",
    "plotly.offline.iplot(plotly_fig)"
   ]
  }
 ],
 "metadata": {
  "celltoolbar": "Slideshow",
  "kernelspec": {
   "display_name": "Python 3",
   "language": "python",
   "name": "python3"
  },
  "language_info": {
   "codemirror_mode": {
    "name": "ipython",
    "version": 3
   },
   "file_extension": ".py",
   "mimetype": "text/x-python",
   "name": "python",
   "nbconvert_exporter": "python",
   "pygments_lexer": "ipython3",
   "version": "3.6.6"
  }
 },
 "nbformat": 4,
 "nbformat_minor": 2
}
